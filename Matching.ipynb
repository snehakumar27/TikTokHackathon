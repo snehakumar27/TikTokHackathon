{
  "nbformat": 4,
  "nbformat_minor": 0,
  "metadata": {
    "colab": {
      "provenance": [],
      "toc_visible": true
    },
    "kernelspec": {
      "name": "python3",
      "display_name": "Python 3"
    },
    "language_info": {
      "name": "python"
    }
  },
  "cells": [
    {
      "cell_type": "markdown",
      "source": [
        "# WD & Import"
      ],
      "metadata": {
        "id": "9ar3pUjKCvjG"
      }
    },
    {
      "cell_type": "code",
      "execution_count": null,
      "metadata": {
        "colab": {
          "base_uri": "https://localhost:8080/"
        },
        "id": "QxjMzWoJw-j8",
        "outputId": "12a98e45-d610-4e71-f316-c1926d6c47dd"
      },
      "outputs": [
        {
          "output_type": "stream",
          "name": "stdout",
          "text": [
            "Mounted at /content/drive\n"
          ]
        }
      ],
      "source": [
        "from google.colab import drive\n",
        "drive.mount('/content/drive')"
      ]
    },
    {
      "cell_type": "code",
      "source": [
        "cd 'drive/MyDrive/TikTok Hackathon'"
      ],
      "metadata": {
        "colab": {
          "base_uri": "https://localhost:8080/"
        },
        "id": "xX1z1asll2Ac",
        "outputId": "0d111f5c-21f5-4cb8-ec07-29e24a7a081b"
      },
      "execution_count": null,
      "outputs": [
        {
          "output_type": "stream",
          "name": "stdout",
          "text": [
            "/content/drive/MyDrive/TikTok Hackathon\n"
          ]
        }
      ]
    },
    {
      "cell_type": "code",
      "source": [
        "import numpy as np\n",
        "import pandas as pd\n",
        "\n",
        "from tqdm import tqdm\n",
        "import math\n",
        "import random\n",
        "\n",
        "import matplotlib.pyplot as plt"
      ],
      "metadata": {
        "id": "7X917Kfc9Oyt"
      },
      "execution_count": null,
      "outputs": []
    },
    {
      "cell_type": "code",
      "source": [
        "ads = pd.read_csv(\"ads_scored.csv\") # TODO Change the path here\n",
        "rev = pd.read_csv(\"reviewers_scored.csv\") # TODO Change the path here"
      ],
      "metadata": {
        "id": "jLmRqggUCt2K"
      },
      "execution_count": 19,
      "outputs": []
    },
    {
      "cell_type": "markdown",
      "source": [
        "## Reviewers Data Wrangling"
      ],
      "metadata": {
        "id": "7h3kkDqcEi-f"
      }
    },
    {
      "cell_type": "markdown",
      "source": [
        "1. Ensure the market expertise of each reviewer is stored in a list, instead of a string"
      ],
      "metadata": {
        "id": "PLWnzkUhE3qa"
      }
    },
    {
      "cell_type": "code",
      "source": [
        "rev['market'][0]   #just a string"
      ],
      "metadata": {
        "colab": {
          "base_uri": "https://localhost:8080/",
          "height": 35
        },
        "id": "hvVrIn2_EXQd",
        "outputId": "52003b5c-fcc2-4388-e12e-9284a49b5d56"
      },
      "execution_count": null,
      "outputs": [
        {
          "output_type": "execute_result",
          "data": {
            "text/plain": [
              "'[\"VN\"]'"
            ],
            "application/vnd.google.colaboratory.intrinsic+json": {
              "type": "string"
            }
          },
          "metadata": {},
          "execution_count": 13
        }
      ]
    },
    {
      "cell_type": "code",
      "source": [
        "rev['market'] = rev['market'].apply(lambda x: eval(x))"
      ],
      "metadata": {
        "id": "M-kkzMlJE1Gc"
      },
      "execution_count": 21,
      "outputs": []
    },
    {
      "cell_type": "code",
      "source": [
        "rev['market'][2]"
      ],
      "metadata": {
        "colab": {
          "base_uri": "https://localhost:8080/"
        },
        "id": "a15D11qfFKCL",
        "outputId": "c05a0ee1-d621-490e-db42-c1d35954e971"
      },
      "execution_count": 23,
      "outputs": [
        {
          "output_type": "execute_result",
          "data": {
            "text/plain": [
              "['MX', 'UY', 'CL', 'AR', 'CO', 'EC', 'PE', 'BR']"
            ]
          },
          "metadata": {},
          "execution_count": 23
        }
      ]
    },
    {
      "cell_type": "markdown",
      "source": [
        "2. Assign a maximum ads (max cap) that can be assigned to each reviewer based on their current utilization"
      ],
      "metadata": {
        "id": "jF-WAU4jFl1g"
      }
    },
    {
      "cell_type": "code",
      "source": [
        "plt.style.use('ggplot')\n",
        "_ = plt.hist(rev['Utilisation %'], bins = 20)"
      ],
      "metadata": {
        "colab": {
          "base_uri": "https://localhost:8080/",
          "height": 430
        },
        "id": "mIJy0epxLjmw",
        "outputId": "4b48a312-7979-47b1-b51d-ae75970b6f53"
      },
      "execution_count": 24,
      "outputs": [
        {
          "output_type": "display_data",
          "data": {
            "text/plain": [
              "<Figure size 640x480 with 1 Axes>"
            ],
            "image/png": "[encoded data removed]"
          },
          "metadata": {}
        }
      ]
    },
    {
      "cell_type": "code",
      "source": [
        "len(ads)/len(rev)"
      ],
      "metadata": {
        "colab": {
          "base_uri": "https://localhost:8080/"
        },
        "id": "pml_Swk0Ly2g",
        "outputId": "2b1be661-8179-4b63-ac99-214629de1ff2"
      },
      "execution_count": 25,
      "outputs": [
        {
          "output_type": "execute_result",
          "data": {
            "text/plain": [
              "23.457254901960784"
            ]
          },
          "metadata": {},
          "execution_count": 25
        }
      ]
    },
    {
      "cell_type": "markdown",
      "source": [
        "On average, each reviewer should get 23.46 ads to review. Most reviers have utilization rates around 0.7-0.8."
      ],
      "metadata": {
        "id": "mrGaF7CGL2f3"
      }
    },
    {
      "cell_type": "code",
      "source": [
        "def cap(util):\n",
        "  if 0 <= util <= 0.2:\n",
        "    return 80\n",
        "  elif 0.2 < util <= 0.4:\n",
        "    return 64\n",
        "  elif 0.4 < util <= 0.6:\n",
        "    return 48\n",
        "  elif 0.6 < util <= 0.8:\n",
        "    return 32\n",
        "  elif 0.8 < util < 1.0:\n",
        "    return 16\n",
        "  else:\n",
        "    return 1"
      ],
      "metadata": {
        "id": "UINc9nNFFlgb"
      },
      "execution_count": 26,
      "outputs": []
    },
    {
      "cell_type": "code",
      "source": [
        "rev['max_cap'] = rev['Utilisation %'].apply(cap)"
      ],
      "metadata": {
        "id": "6kRCelKFLVeC"
      },
      "execution_count": 27,
      "outputs": []
    },
    {
      "cell_type": "code",
      "source": [
        "rev[['max_cap', 'Utilisation %']]"
      ],
      "metadata": {
        "colab": {
          "base_uri": "https://localhost:8080/",
          "height": 423
        },
        "id": "KRV3LWu4Lbe6",
        "outputId": "fd277179-741f-44b7-833a-3f102739a417"
      },
      "execution_count": null,
      "outputs": [
        {
          "output_type": "execute_result",
          "data": {
            "text/plain": [
              "      max_cap  Utilisation %\n",
              "0          32       0.704833\n",
              "1          16       0.819167\n",
              "2          32       0.775474\n",
              "3          16       0.843229\n",
              "4          32       0.678776\n",
              "...       ...            ...\n",
              "1270       16       0.861444\n",
              "1271       32       0.685469\n",
              "1272       16       0.890927\n",
              "1273       16       0.843042\n",
              "1274       16       0.846072\n",
              "\n",
              "[1275 rows x 2 columns]"
            ],
            "text/html": [
              "\n",
              "  <div id=\"df-120aa825-c31e-4710-b5b8-e69a945f85ab\" class=\"colab-df-container\">\n",
              "    <div>\n",
              "<style scoped>\n",
              "    .dataframe tbody tr th:only-of-type {\n",
              "        vertical-align: middle;\n",
              "    }\n",
              "\n",
              "    .dataframe tbody tr th {\n",
              "        vertical-align: top;\n",
              "    }\n",
              "\n",
              "    .dataframe thead th {\n",
              "        text-align: right;\n",
              "    }\n",
              "</style>\n",
              "<table border=\"1\" class=\"dataframe\">\n",
              "  <thead>\n",
              "    <tr style=\"text-align: right;\">\n",
              "      <th></th>\n",
              "      <th>max_cap</th>\n",
              "      <th>Utilisation %</th>\n",
              "    </tr>\n",
              "  </thead>\n",
              "  <tbody>\n",
              "    <tr>\n",
              "      <th>0</th>\n",
              "      <td>32</td>\n",
              "      <td>0.704833</td>\n",
              "    </tr>\n",
              "    <tr>\n",
              "      <th>1</th>\n",
              "      <td>16</td>\n",
              "      <td>0.819167</td>\n",
              "    </tr>\n",
              "    <tr>\n",
              "      <th>2</th>\n",
              "      <td>32</td>\n",
              "      <td>0.775474</td>\n",
              "    </tr>\n",
              "    <tr>\n",
              "      <th>3</th>\n",
              "      <td>16</td>\n",
              "      <td>0.843229</td>\n",
              "    </tr>\n",
              "    <tr>\n",
              "      <th>4</th>\n",
              "      <td>32</td>\n",
              "      <td>0.678776</td>\n",
              "    </tr>\n",
              "    <tr>\n",
              "      <th>...</th>\n",
              "      <td>...</td>\n",
              "      <td>...</td>\n",
              "    </tr>\n",
              "    <tr>\n",
              "      <th>1270</th>\n",
              "      <td>16</td>\n",
              "      <td>0.861444</td>\n",
              "    </tr>\n",
              "    <tr>\n",
              "      <th>1271</th>\n",
              "      <td>32</td>\n",
              "      <td>0.685469</td>\n",
              "    </tr>\n",
              "    <tr>\n",
              "      <th>1272</th>\n",
              "      <td>16</td>\n",
              "      <td>0.890927</td>\n",
              "    </tr>\n",
              "    <tr>\n",
              "      <th>1273</th>\n",
              "      <td>16</td>\n",
              "      <td>0.843042</td>\n",
              "    </tr>\n",
              "    <tr>\n",
              "      <th>1274</th>\n",
              "      <td>16</td>\n",
              "      <td>0.846072</td>\n",
              "    </tr>\n",
              "  </tbody>\n",
              "</table>\n",
              "<p>1275 rows × 2 columns</p>\n",
              "</div>\n",
              "    <div class=\"colab-df-buttons\">\n",
              "\n",
              "  <div class=\"colab-df-container\">\n",
              "    <button class=\"colab-df-convert\" onclick=\"convertToInteractive('df-120aa825-c31e-4710-b5b8-e69a945f85ab')\"\n",
              "            title=\"Convert this dataframe to an interactive table.\"\n",
              "            style=\"display:none;\">\n",
              "\n",
              "  <svg xmlns=\"http://www.w3.org/2000/svg\" height=\"24px\" viewBox=\"0 -960 960 960\">\n",
              "    <path d=\"M120-120v-720h720v720H120Zm60-500h600v-160H180v160Zm220 220h160v-160H400v160Zm0 220h160v-160H400v160ZM180-400h160v-160H180v160Zm440 0h160v-160H620v160ZM180-180h160v-160H180v160Zm440 0h160v-160H620v160Z\"/>\n",
              "  </svg>\n",
              "    </button>\n",
              "\n",
              "  <style>\n",
              "    .colab-df-container {\n",
              "      display:flex;\n",
              "      gap: 12px;\n",
              "    }\n",
              "\n",
              "    .colab-df-convert {\n",
              "      background-color: #E8F0FE;\n",
              "      border: none;\n",
              "      border-radius: 50%;\n",
              "      cursor: pointer;\n",
              "      display: none;\n",
              "      fill: #1967D2;\n",
              "      height: 32px;\n",
              "      padding: 0 0 0 0;\n",
              "      width: 32px;\n",
              "    }\n",
              "\n",
              "    .colab-df-convert:hover {\n",
              "      background-color: #E2EBFA;\n",
              "      box-shadow: 0px 1px 2px rgba(60, 64, 67, 0.3), 0px 1px 3px 1px rgba(60, 64, 67, 0.15);\n",
              "      fill: #174EA6;\n",
              "    }\n",
              "\n",
              "    .colab-df-buttons div {\n",
              "      margin-bottom: 4px;\n",
              "    }\n",
              "\n",
              "    [theme=dark] .colab-df-convert {\n",
              "      background-color: #3B4455;\n",
              "      fill: #D2E3FC;\n",
              "    }\n",
              "\n",
              "    [theme=dark] .colab-df-convert:hover {\n",
              "      background-color: #434B5C;\n",
              "      box-shadow: 0px 1px 3px 1px rgba(0, 0, 0, 0.15);\n",
              "      filter: drop-shadow(0px 1px 2px rgba(0, 0, 0, 0.3));\n",
              "      fill: #FFFFFF;\n",
              "    }\n",
              "  </style>\n",
              "\n",
              "    <script>\n",
              "      const buttonEl =\n",
              "        document.querySelector('#df-120aa825-c31e-4710-b5b8-e69a945f85ab button.colab-df-convert');\n",
              "      buttonEl.style.display =\n",
              "        google.colab.kernel.accessAllowed ? 'block' : 'none';\n",
              "\n",
              "      async function convertToInteractive(key) {\n",
              "        const element = document.querySelector('#df-120aa825-c31e-4710-b5b8-e69a945f85ab');\n",
              "        const dataTable =\n",
              "          await google.colab.kernel.invokeFunction('convertToInteractive',\n",
              "                                                    [key], {});\n",
              "        if (!dataTable) return;\n",
              "\n",
              "        const docLinkHtml = 'Like what you see? Visit the ' +\n",
              "          '<a target=\"_blank\" href=https://colab.research.google.com/notebooks/data_table.ipynb>data table notebook</a>'\n",
              "          + ' to learn more about interactive tables.';\n",
              "        element.innerHTML = '';\n",
              "        dataTable['output_type'] = 'display_data';\n",
              "        await google.colab.output.renderOutput(dataTable, element);\n",
              "        const docLink = document.createElement('div');\n",
              "        docLink.innerHTML = docLinkHtml;\n",
              "        element.appendChild(docLink);\n",
              "      }\n",
              "    </script>\n",
              "  </div>\n",
              "\n",
              "\n",
              "<div id=\"df-6ce0ffdc-51a3-4110-9550-a07fdc19963c\">\n",
              "  <button class=\"colab-df-quickchart\" onclick=\"quickchart('df-6ce0ffdc-51a3-4110-9550-a07fdc19963c')\"\n",
              "            title=\"Suggest charts.\"\n",
              "            style=\"display:none;\">\n",
              "\n",
              "<svg xmlns=\"http://www.w3.org/2000/svg\" height=\"24px\"viewBox=\"0 0 24 24\"\n",
              "     width=\"24px\">\n",
              "    <g>\n",
              "        <path d=\"M19 3H5c-1.1 0-2 .9-2 2v14c0 1.1.9 2 2 2h14c1.1 0 2-.9 2-2V5c0-1.1-.9-2-2-2zM9 17H7v-7h2v7zm4 0h-2V7h2v10zm4 0h-2v-4h2v4z\"/>\n",
              "    </g>\n",
              "</svg>\n",
              "  </button>\n",
              "\n",
              "<style>\n",
              "  .colab-df-quickchart {\n",
              "      --bg-color: #E8F0FE;\n",
              "      --fill-color: #1967D2;\n",
              "      --hover-bg-color: #E2EBFA;\n",
              "      --hover-fill-color: #174EA6;\n",
              "      --disabled-fill-color: #AAA;\n",
              "      --disabled-bg-color: #DDD;\n",
              "  }\n",
              "\n",
              "  [theme=dark] .colab-df-quickchart {\n",
              "      --bg-color: #3B4455;\n",
              "      --fill-color: #D2E3FC;\n",
              "      --hover-bg-color: #434B5C;\n",
              "      --hover-fill-color: #FFFFFF;\n",
              "      --disabled-bg-color: #3B4455;\n",
              "      --disabled-fill-color: #666;\n",
              "  }\n",
              "\n",
              "  .colab-df-quickchart {\n",
              "    background-color: var(--bg-color);\n",
              "    border: none;\n",
              "    border-radius: 50%;\n",
              "    cursor: pointer;\n",
              "    display: none;\n",
              "    fill: var(--fill-color);\n",
              "    height: 32px;\n",
              "    padding: 0;\n",
              "    width: 32px;\n",
              "  }\n",
              "\n",
              "  .colab-df-quickchart:hover {\n",
              "    background-color: var(--hover-bg-color);\n",
              "    box-shadow: 0 1px 2px rgba(60, 64, 67, 0.3), 0 1px 3px 1px rgba(60, 64, 67, 0.15);\n",
              "    fill: var(--button-hover-fill-color);\n",
              "  }\n",
              "\n",
              "  .colab-df-quickchart-complete:disabled,\n",
              "  .colab-df-quickchart-complete:disabled:hover {\n",
              "    background-color: var(--disabled-bg-color);\n",
              "    fill: var(--disabled-fill-color);\n",
              "    box-shadow: none;\n",
              "  }\n",
              "\n",
              "  .colab-df-spinner {\n",
              "    border: 2px solid var(--fill-color);\n",
              "    border-color: transparent;\n",
              "    border-bottom-color: var(--fill-color);\n",
              "    animation:\n",
              "      spin 1s steps(1) infinite;\n",
              "  }\n",
              "\n",
              "  @keyframes spin {\n",
              "    0% {\n",
              "      border-color: transparent;\n",
              "      border-bottom-color: var(--fill-color);\n",
              "      border-left-color: var(--fill-color);\n",
              "    }\n",
              "    20% {\n",
              "      border-color: transparent;\n",
              "      border-left-color: var(--fill-color);\n",
              "      border-top-color: var(--fill-color);\n",
              "    }\n",
              "    30% {\n",
              "      border-color: transparent;\n",
              "      border-left-color: var(--fill-color);\n",
              "      border-top-color: var(--fill-color);\n",
              "      border-right-color: var(--fill-color);\n",
              "    }\n",
              "    40% {\n",
              "      border-color: transparent;\n",
              "      border-right-color: var(--fill-color);\n",
              "      border-top-color: var(--fill-color);\n",
              "    }\n",
              "    60% {\n",
              "      border-color: transparent;\n",
              "      border-right-color: var(--fill-color);\n",
              "    }\n",
              "    80% {\n",
              "      border-color: transparent;\n",
              "      border-right-color: var(--fill-color);\n",
              "      border-bottom-color: var(--fill-color);\n",
              "    }\n",
              "    90% {\n",
              "      border-color: transparent;\n",
              "      border-bottom-color: var(--fill-color);\n",
              "    }\n",
              "  }\n",
              "</style>\n",
              "\n",
              "  <script>\n",
              "    async function quickchart(key) {\n",
              "      const quickchartButtonEl =\n",
              "        document.querySelector('#' + key + ' button');\n",
              "      quickchartButtonEl.disabled = true;  // To prevent multiple clicks.\n",
              "      quickchartButtonEl.classList.add('colab-df-spinner');\n",
              "      try {\n",
              "        const charts = await google.colab.kernel.invokeFunction(\n",
              "            'suggestCharts', [key], {});\n",
              "      } catch (error) {\n",
              "        console.error('Error during call to suggestCharts:', error);\n",
              "      }\n",
              "      quickchartButtonEl.classList.remove('colab-df-spinner');\n",
              "      quickchartButtonEl.classList.add('colab-df-quickchart-complete');\n",
              "    }\n",
              "    (() => {\n",
              "      let quickchartButtonEl =\n",
              "        document.querySelector('#df-6ce0ffdc-51a3-4110-9550-a07fdc19963c button');\n",
              "      quickchartButtonEl.style.display =\n",
              "        google.colab.kernel.accessAllowed ? 'block' : 'none';\n",
              "    })();\n",
              "  </script>\n",
              "</div>\n",
              "    </div>\n",
              "  </div>\n"
            ]
          },
          "metadata": {},
          "execution_count": 14
        }
      ]
    },
    {
      "cell_type": "code",
      "source": [
        "np.mean(rev['max_cap'])"
      ],
      "metadata": {
        "colab": {
          "base_uri": "https://localhost:8080/"
        },
        "id": "QsjByJp2LiP3",
        "outputId": "8126e01e-c73f-46f2-9fca-09b48f27550d"
      },
      "execution_count": 28,
      "outputs": [
        {
          "output_type": "execute_result",
          "data": {
            "text/plain": [
              "29.67058823529412"
            ]
          },
          "metadata": {},
          "execution_count": 28
        }
      ]
    },
    {
      "cell_type": "code",
      "source": [
        "np.max(rev['max_cap'])"
      ],
      "metadata": {
        "colab": {
          "base_uri": "https://localhost:8080/"
        },
        "id": "JybjXzw0PJFV",
        "outputId": "0caba5d7-f048-4804-f3a8-09cac195f59e"
      },
      "execution_count": 29,
      "outputs": [
        {
          "output_type": "execute_result",
          "data": {
            "text/plain": [
              "80"
            ]
          },
          "metadata": {},
          "execution_count": 29
        }
      ]
    },
    {
      "cell_type": "code",
      "source": [
        "np.min(rev['max_cap'])"
      ],
      "metadata": {
        "colab": {
          "base_uri": "https://localhost:8080/"
        },
        "id": "5M-d5tiSPIc-",
        "outputId": "383bb0ae-17b3-493d-f7f6-5c2d402313ce"
      },
      "execution_count": 30,
      "outputs": [
        {
          "output_type": "execute_result",
          "data": {
            "text/plain": [
              "1"
            ]
          },
          "metadata": {},
          "execution_count": 30
        }
      ]
    },
    {
      "cell_type": "markdown",
      "source": [
        "The average of the maximum capacity is slightly more than the required average, which ensures all ads can be assigned with enough flexibility for matches based on market expertise OR ad complexity-reviewer productivity"
      ],
      "metadata": {
        "id": "vuvh7-dEMk39"
      }
    },
    {
      "cell_type": "markdown",
      "source": [
        "## Indexing/Primary Key"
      ],
      "metadata": {
        "id": "V_IniHL4Q8bO"
      }
    },
    {
      "cell_type": "markdown",
      "source": [
        "We need to establish an index/primary key to uniquely identify each advertisment and reviewer"
      ],
      "metadata": {
        "id": "HIeqX444Q_im"
      }
    },
    {
      "cell_type": "markdown",
      "source": [
        "### Ads"
      ],
      "metadata": {
        "id": "YxgqQ5QiRpGg"
      }
    },
    {
      "cell_type": "code",
      "source": [
        "ads['ad_id'].nunique() == len(ads)"
      ],
      "metadata": {
        "colab": {
          "base_uri": "https://localhost:8080/"
        },
        "id": "2ZNwp5VoRqYq",
        "outputId": "18170740-7b02-40dc-8509-6d1caa725eac"
      },
      "execution_count": null,
      "outputs": [
        {
          "output_type": "execute_result",
          "data": {
            "text/plain": [
              "False"
            ]
          },
          "metadata": {},
          "execution_count": 20
        }
      ]
    },
    {
      "cell_type": "markdown",
      "source": [
        "Each ad_id is not unique since there could be mutliple requests from the same ad group."
      ],
      "metadata": {
        "id": "RBZUwcwoRtkd"
      }
    },
    {
      "cell_type": "markdown",
      "source": [
        "As such, we can simply use the dataframe's index as a unique identifier for each ad"
      ],
      "metadata": {
        "id": "2hh5ICrqRxP5"
      }
    },
    {
      "cell_type": "code",
      "source": [
        "ads"
      ],
      "metadata": {
        "colab": {
          "base_uri": "https://localhost:8080/",
          "height": 634
        },
        "id": "wUZwBK99R2y-",
        "outputId": "b3b4f28e-02d4-43ff-8e43-9bd2c14761ba"
      },
      "execution_count": null,
      "outputs": [
        {
          "output_type": "execute_result",
          "data": {
            "text/plain": [
              "         p_date             ad_id delivery_country queue_market    punish_num  \\\n",
              "0      20230807  1747578422390810               US         USCA  1.000000e+00   \n",
              "1      20230807  1758543228094480               SA         MENA  1.000000e+00   \n",
              "2      20230807  1738303151826990               AU           AU  2.000000e+00   \n",
              "3      20230807  1738304016410620               NZ           NZ  2.000000e+00   \n",
              "4      20230807  1738304421208090               NZ           NZ  2.000000e+00   \n",
              "...         ...               ...              ...          ...           ...   \n",
              "29903  20230807  1773564626657310               GB          NaN  2.220446e-16   \n",
              "29904  20230807  1773600771048460               US          NaN  2.220446e-16   \n",
              "29905  20230807  1773196249629690               TR          NaN  2.220446e-16   \n",
              "29906  20230807  1773281664990280               SE          NaN  2.220446e-16   \n",
              "29907  20230807  1773116025801720               AU           AU  2.220446e-16   \n",
              "\n",
              "      latest_punish_begin_date   ad_revenue  avg_ad_revenue  \\\n",
              "0                   2023-07-24  5136.888282     4799.968282   \n",
              "1                   2023-06-14  1980.968282     1068.485282   \n",
              "2                   2023-07-24     6.453782       10.083282   \n",
              "3                   2023-07-24     6.243282       10.083282   \n",
              "4                   2023-07-24     5.507182       10.083282   \n",
              "...                        ...          ...             ...   \n",
              "29903               2000-01-01     4.718282        4.718282   \n",
              "29904               2000-01-01     4.718282        4.718282   \n",
              "29905               2000-01-01     4.718282        4.718282   \n",
              "29906               2000-01-01     4.718282        4.718282   \n",
              "29907               2000-01-01     4.718282        4.718282   \n",
              "\n",
              "                start_time  baseline_st     product_line  \\\n",
              "0      2022-10-24 14:36:00         1.78      Auction Ads   \n",
              "1      2023-02-22 15:50:00         1.67              RIE   \n",
              "2      2022-07-14 05:00:00         1.84      Auction Ads   \n",
              "3      2022-07-14 05:17:00         1.58      Auction Ads   \n",
              "4      2022-07-14 05:24:00         1.58      Auction Ads   \n",
              "...                    ...          ...              ...   \n",
              "29903  2023-08-09 00:00:00         5.96  Non-Auction Ads   \n",
              "29904  2023-08-09 05:00:00         5.96  Non-Auction Ads   \n",
              "29905  2023-08-09 21:00:00         5.96  Non-Auction Ads   \n",
              "29906  2023-08-12 23:00:00         5.96  Non-Auction Ads   \n",
              "29907  2023-08-13 14:00:00         1.43  Non-Auction Ads   \n",
              "\n",
              "                   task_type_en            v1        v2        v3     score  \\\n",
              "0              auction_relation  6.931472e-01  8.544397  8.476573  7.855396   \n",
              "1      Ad Group Recall (Merged)  6.931472e-01  7.591846  6.974933  6.140400   \n",
              "2              auction_relation  1.098612e+00  2.008722  2.405438  0.415169   \n",
              "3              auction_relation  1.098612e+00  1.980074  2.405438  0.342925   \n",
              "4              auction_relation  1.098612e+00  1.872906  2.405438  0.292128   \n",
              "...                         ...           ...       ...       ...       ...   \n",
              "29903              Branding Ads  2.220446e-16  1.743668  1.743668  6.235358   \n",
              "29904              Branding Ads  2.220446e-16  1.743668  1.743668  6.235358   \n",
              "29905              Branding Ads  2.220446e-16  1.743668  1.743668  6.235358   \n",
              "29906              Branding Ads  2.220446e-16  1.743668  1.743668  6.235358   \n",
              "29907                       R&F  2.220446e-16  1.743668  1.743668  1.496067   \n",
              "\n",
              "       scaled_score  \n",
              "0          0.288041  \n",
              "1          0.246923  \n",
              "2          0.109657  \n",
              "3          0.107925  \n",
              "4          0.106707  \n",
              "...             ...  \n",
              "29903      0.249199  \n",
              "29904      0.249199  \n",
              "29905      0.249199  \n",
              "29906      0.249199  \n",
              "29907      0.135572  \n",
              "\n",
              "[29908 rows x 17 columns]"
            ],
            "text/html": [
              "\n",
              "  <div id=\"df-0caffc76-1534-4a0b-8054-8c2557aa4fc7\" class=\"colab-df-container\">\n",
              "    <div>\n",
              "<style scoped>\n",
              "    .dataframe tbody tr th:only-of-type {\n",
              "        vertical-align: middle;\n",
              "    }\n",
              "\n",
              "    .dataframe tbody tr th {\n",
              "        vertical-align: top;\n",
              "    }\n",
              "\n",
              "    .dataframe thead th {\n",
              "        text-align: right;\n",
              "    }\n",
              "</style>\n",
              "<table border=\"1\" class=\"dataframe\">\n",
              "  <thead>\n",
              "    <tr style=\"text-align: right;\">\n",
              "      <th></th>\n",
              "      <th>p_date</th>\n",
              "      <th>ad_id</th>\n",
              "      <th>delivery_country</th>\n",
              "      <th>queue_market</th>\n",
              "      <th>punish_num</th>\n",
              "      <th>latest_punish_begin_date</th>\n",
              "      <th>ad_revenue</th>\n",
              "      <th>avg_ad_revenue</th>\n",
              "      <th>start_time</th>\n",
              "      <th>baseline_st</th>\n",
              "      <th>product_line</th>\n",
              "      <th>task_type_en</th>\n",
              "      <th>v1</th>\n",
              "      <th>v2</th>\n",
              "      <th>v3</th>\n",
              "      <th>score</th>\n",
              "      <th>scaled_score</th>\n",
              "    </tr>\n",
              "  </thead>\n",
              "  <tbody>\n",
              "    <tr>\n",
              "      <th>0</th>\n",
              "      <td>20230807</td>\n",
              "      <td>1747578422390810</td>\n",
              "      <td>US</td>\n",
              "      <td>USCA</td>\n",
              "      <td>1.000000e+00</td>\n",
              "      <td>2023-07-24</td>\n",
              "      <td>5136.888282</td>\n",
              "      <td>4799.968282</td>\n",
              "      <td>2022-10-24 14:36:00</td>\n",
              "      <td>1.78</td>\n",
              "      <td>Auction Ads</td>\n",
              "      <td>auction_relation</td>\n",
              "      <td>6.931472e-01</td>\n",
              "      <td>8.544397</td>\n",
              "      <td>8.476573</td>\n",
              "      <td>7.855396</td>\n",
              "      <td>0.288041</td>\n",
              "    </tr>\n",
              "    <tr>\n",
              "      <th>1</th>\n",
              "      <td>20230807</td>\n",
              "      <td>1758543228094480</td>\n",
              "      <td>SA</td>\n",
              "      <td>MENA</td>\n",
              "      <td>1.000000e+00</td>\n",
              "      <td>2023-06-14</td>\n",
              "      <td>1980.968282</td>\n",
              "      <td>1068.485282</td>\n",
              "      <td>2023-02-22 15:50:00</td>\n",
              "      <td>1.67</td>\n",
              "      <td>RIE</td>\n",
              "      <td>Ad Group Recall (Merged)</td>\n",
              "      <td>6.931472e-01</td>\n",
              "      <td>7.591846</td>\n",
              "      <td>6.974933</td>\n",
              "      <td>6.140400</td>\n",
              "      <td>0.246923</td>\n",
              "    </tr>\n",
              "    <tr>\n",
              "      <th>2</th>\n",
              "      <td>20230807</td>\n",
              "      <td>1738303151826990</td>\n",
              "      <td>AU</td>\n",
              "      <td>AU</td>\n",
              "      <td>2.000000e+00</td>\n",
              "      <td>2023-07-24</td>\n",
              "      <td>6.453782</td>\n",
              "      <td>10.083282</td>\n",
              "      <td>2022-07-14 05:00:00</td>\n",
              "      <td>1.84</td>\n",
              "      <td>Auction Ads</td>\n",
              "      <td>auction_relation</td>\n",
              "      <td>1.098612e+00</td>\n",
              "      <td>2.008722</td>\n",
              "      <td>2.405438</td>\n",
              "      <td>0.415169</td>\n",
              "      <td>0.109657</td>\n",
              "    </tr>\n",
              "    <tr>\n",
              "      <th>3</th>\n",
              "      <td>20230807</td>\n",
              "      <td>1738304016410620</td>\n",
              "      <td>NZ</td>\n",
              "      <td>NZ</td>\n",
              "      <td>2.000000e+00</td>\n",
              "      <td>2023-07-24</td>\n",
              "      <td>6.243282</td>\n",
              "      <td>10.083282</td>\n",
              "      <td>2022-07-14 05:17:00</td>\n",
              "      <td>1.58</td>\n",
              "      <td>Auction Ads</td>\n",
              "      <td>auction_relation</td>\n",
              "      <td>1.098612e+00</td>\n",
              "      <td>1.980074</td>\n",
              "      <td>2.405438</td>\n",
              "      <td>0.342925</td>\n",
              "      <td>0.107925</td>\n",
              "    </tr>\n",
              "    <tr>\n",
              "      <th>4</th>\n",
              "      <td>20230807</td>\n",
              "      <td>1738304421208090</td>\n",
              "      <td>NZ</td>\n",
              "      <td>NZ</td>\n",
              "      <td>2.000000e+00</td>\n",
              "      <td>2023-07-24</td>\n",
              "      <td>5.507182</td>\n",
              "      <td>10.083282</td>\n",
              "      <td>2022-07-14 05:24:00</td>\n",
              "      <td>1.58</td>\n",
              "      <td>Auction Ads</td>\n",
              "      <td>auction_relation</td>\n",
              "      <td>1.098612e+00</td>\n",
              "      <td>1.872906</td>\n",
              "      <td>2.405438</td>\n",
              "      <td>0.292128</td>\n",
              "      <td>0.106707</td>\n",
              "    </tr>\n",
              "    <tr>\n",
              "      <th>...</th>\n",
              "      <td>...</td>\n",
              "      <td>...</td>\n",
              "      <td>...</td>\n",
              "      <td>...</td>\n",
              "      <td>...</td>\n",
              "      <td>...</td>\n",
              "      <td>...</td>\n",
              "      <td>...</td>\n",
              "      <td>...</td>\n",
              "      <td>...</td>\n",
              "      <td>...</td>\n",
              "      <td>...</td>\n",
              "      <td>...</td>\n",
              "      <td>...</td>\n",
              "      <td>...</td>\n",
              "      <td>...</td>\n",
              "      <td>...</td>\n",
              "    </tr>\n",
              "    <tr>\n",
              "      <th>29903</th>\n",
              "      <td>20230807</td>\n",
              "      <td>1773564626657310</td>\n",
              "      <td>GB</td>\n",
              "      <td>NaN</td>\n",
              "      <td>2.220446e-16</td>\n",
              "      <td>2000-01-01</td>\n",
              "      <td>4.718282</td>\n",
              "      <td>4.718282</td>\n",
              "      <td>2023-08-09 00:00:00</td>\n",
              "      <td>5.96</td>\n",
              "      <td>Non-Auction Ads</td>\n",
              "      <td>Branding Ads</td>\n",
              "      <td>2.220446e-16</td>\n",
              "      <td>1.743668</td>\n",
              "      <td>1.743668</td>\n",
              "      <td>6.235358</td>\n",
              "      <td>0.249199</td>\n",
              "    </tr>\n",
              "    <tr>\n",
              "      <th>29904</th>\n",
              "      <td>20230807</td>\n",
              "      <td>1773600771048460</td>\n",
              "      <td>US</td>\n",
              "      <td>NaN</td>\n",
              "      <td>2.220446e-16</td>\n",
              "      <td>2000-01-01</td>\n",
              "      <td>4.718282</td>\n",
              "      <td>4.718282</td>\n",
              "      <td>2023-08-09 05:00:00</td>\n",
              "      <td>5.96</td>\n",
              "      <td>Non-Auction Ads</td>\n",
              "      <td>Branding Ads</td>\n",
              "      <td>2.220446e-16</td>\n",
              "      <td>1.743668</td>\n",
              "      <td>1.743668</td>\n",
              "      <td>6.235358</td>\n",
              "      <td>0.249199</td>\n",
              "    </tr>\n",
              "    <tr>\n",
              "      <th>29905</th>\n",
              "      <td>20230807</td>\n",
              "      <td>1773196249629690</td>\n",
              "      <td>TR</td>\n",
              "      <td>NaN</td>\n",
              "      <td>2.220446e-16</td>\n",
              "      <td>2000-01-01</td>\n",
              "      <td>4.718282</td>\n",
              "      <td>4.718282</td>\n",
              "      <td>2023-08-09 21:00:00</td>\n",
              "      <td>5.96</td>\n",
              "      <td>Non-Auction Ads</td>\n",
              "      <td>Branding Ads</td>\n",
              "      <td>2.220446e-16</td>\n",
              "      <td>1.743668</td>\n",
              "      <td>1.743668</td>\n",
              "      <td>6.235358</td>\n",
              "      <td>0.249199</td>\n",
              "    </tr>\n",
              "    <tr>\n",
              "      <th>29906</th>\n",
              "      <td>20230807</td>\n",
              "      <td>1773281664990280</td>\n",
              "      <td>SE</td>\n",
              "      <td>NaN</td>\n",
              "      <td>2.220446e-16</td>\n",
              "      <td>2000-01-01</td>\n",
              "      <td>4.718282</td>\n",
              "      <td>4.718282</td>\n",
              "      <td>2023-08-12 23:00:00</td>\n",
              "      <td>5.96</td>\n",
              "      <td>Non-Auction Ads</td>\n",
              "      <td>Branding Ads</td>\n",
              "      <td>2.220446e-16</td>\n",
              "      <td>1.743668</td>\n",
              "      <td>1.743668</td>\n",
              "      <td>6.235358</td>\n",
              "      <td>0.249199</td>\n",
              "    </tr>\n",
              "    <tr>\n",
              "      <th>29907</th>\n",
              "      <td>20230807</td>\n",
              "      <td>1773116025801720</td>\n",
              "      <td>AU</td>\n",
              "      <td>AU</td>\n",
              "      <td>2.220446e-16</td>\n",
              "      <td>2000-01-01</td>\n",
              "      <td>4.718282</td>\n",
              "      <td>4.718282</td>\n",
              "      <td>2023-08-13 14:00:00</td>\n",
              "      <td>1.43</td>\n",
              "      <td>Non-Auction Ads</td>\n",
              "      <td>R&amp;F</td>\n",
              "      <td>2.220446e-16</td>\n",
              "      <td>1.743668</td>\n",
              "      <td>1.743668</td>\n",
              "      <td>1.496067</td>\n",
              "      <td>0.135572</td>\n",
              "    </tr>\n",
              "  </tbody>\n",
              "</table>\n",
              "<p>29908 rows × 17 columns</p>\n",
              "</div>\n",
              "    <div class=\"colab-df-buttons\">\n",
              "\n",
              "  <div class=\"colab-df-container\">\n",
              "    <button class=\"colab-df-convert\" onclick=\"convertToInteractive('df-0caffc76-1534-4a0b-8054-8c2557aa4fc7')\"\n",
              "            title=\"Convert this dataframe to an interactive table.\"\n",
              "            style=\"display:none;\">\n",
              "\n",
              "  <svg xmlns=\"http://www.w3.org/2000/svg\" height=\"24px\" viewBox=\"0 -960 960 960\">\n",
              "    <path d=\"M120-120v-720h720v720H120Zm60-500h600v-160H180v160Zm220 220h160v-160H400v160Zm0 220h160v-160H400v160ZM180-400h160v-160H180v160Zm440 0h160v-160H620v160ZM180-180h160v-160H180v160Zm440 0h160v-160H620v160Z\"/>\n",
              "  </svg>\n",
              "    </button>\n",
              "\n",
              "  <style>\n",
              "    .colab-df-container {\n",
              "      display:flex;\n",
              "      gap: 12px;\n",
              "    }\n",
              "\n",
              "    .colab-df-convert {\n",
              "      background-color: #E8F0FE;\n",
              "      border: none;\n",
              "      border-radius: 50%;\n",
              "      cursor: pointer;\n",
              "      display: none;\n",
              "      fill: #1967D2;\n",
              "      height: 32px;\n",
              "      padding: 0 0 0 0;\n",
              "      width: 32px;\n",
              "    }\n",
              "\n",
              "    .colab-df-convert:hover {\n",
              "      background-color: #E2EBFA;\n",
              "      box-shadow: 0px 1px 2px rgba(60, 64, 67, 0.3), 0px 1px 3px 1px rgba(60, 64, 67, 0.15);\n",
              "      fill: #174EA6;\n",
              "    }\n",
              "\n",
              "    .colab-df-buttons div {\n",
              "      margin-bottom: 4px;\n",
              "    }\n",
              "\n",
              "    [theme=dark] .colab-df-convert {\n",
              "      background-color: #3B4455;\n",
              "      fill: #D2E3FC;\n",
              "    }\n",
              "\n",
              "    [theme=dark] .colab-df-convert:hover {\n",
              "      background-color: #434B5C;\n",
              "      box-shadow: 0px 1px 3px 1px rgba(0, 0, 0, 0.15);\n",
              "      filter: drop-shadow(0px 1px 2px rgba(0, 0, 0, 0.3));\n",
              "      fill: #FFFFFF;\n",
              "    }\n",
              "  </style>\n",
              "\n",
              "    <script>\n",
              "      const buttonEl =\n",
              "        document.querySelector('#df-0caffc76-1534-4a0b-8054-8c2557aa4fc7 button.colab-df-convert');\n",
              "      buttonEl.style.display =\n",
              "        google.colab.kernel.accessAllowed ? 'block' : 'none';\n",
              "\n",
              "      async function convertToInteractive(key) {\n",
              "        const element = document.querySelector('#df-0caffc76-1534-4a0b-8054-8c2557aa4fc7');\n",
              "        const dataTable =\n",
              "          await google.colab.kernel.invokeFunction('convertToInteractive',\n",
              "                                                    [key], {});\n",
              "        if (!dataTable) return;\n",
              "\n",
              "        const docLinkHtml = 'Like what you see? Visit the ' +\n",
              "          '<a target=\"_blank\" href=https://colab.research.google.com/notebooks/data_table.ipynb>data table notebook</a>'\n",
              "          + ' to learn more about interactive tables.';\n",
              "        element.innerHTML = '';\n",
              "        dataTable['output_type'] = 'display_data';\n",
              "        await google.colab.output.renderOutput(dataTable, element);\n",
              "        const docLink = document.createElement('div');\n",
              "        docLink.innerHTML = docLinkHtml;\n",
              "        element.appendChild(docLink);\n",
              "      }\n",
              "    </script>\n",
              "  </div>\n",
              "\n",
              "\n",
              "<div id=\"df-e8f7014a-bdcb-4093-af98-16658996f2a6\">\n",
              "  <button class=\"colab-df-quickchart\" onclick=\"quickchart('df-e8f7014a-bdcb-4093-af98-16658996f2a6')\"\n",
              "            title=\"Suggest charts.\"\n",
              "            style=\"display:none;\">\n",
              "\n",
              "<svg xmlns=\"http://www.w3.org/2000/svg\" height=\"24px\"viewBox=\"0 0 24 24\"\n",
              "     width=\"24px\">\n",
              "    <g>\n",
              "        <path d=\"M19 3H5c-1.1 0-2 .9-2 2v14c0 1.1.9 2 2 2h14c1.1 0 2-.9 2-2V5c0-1.1-.9-2-2-2zM9 17H7v-7h2v7zm4 0h-2V7h2v10zm4 0h-2v-4h2v4z\"/>\n",
              "    </g>\n",
              "</svg>\n",
              "  </button>\n",
              "\n",
              "<style>\n",
              "  .colab-df-quickchart {\n",
              "      --bg-color: #E8F0FE;\n",
              "      --fill-color: #1967D2;\n",
              "      --hover-bg-color: #E2EBFA;\n",
              "      --hover-fill-color: #174EA6;\n",
              "      --disabled-fill-color: #AAA;\n",
              "      --disabled-bg-color: #DDD;\n",
              "  }\n",
              "\n",
              "  [theme=dark] .colab-df-quickchart {\n",
              "      --bg-color: #3B4455;\n",
              "      --fill-color: #D2E3FC;\n",
              "      --hover-bg-color: #434B5C;\n",
              "      --hover-fill-color: #FFFFFF;\n",
              "      --disabled-bg-color: #3B4455;\n",
              "      --disabled-fill-color: #666;\n",
              "  }\n",
              "\n",
              "  .colab-df-quickchart {\n",
              "    background-color: var(--bg-color);\n",
              "    border: none;\n",
              "    border-radius: 50%;\n",
              "    cursor: pointer;\n",
              "    display: none;\n",
              "    fill: var(--fill-color);\n",
              "    height: 32px;\n",
              "    padding: 0;\n",
              "    width: 32px;\n",
              "  }\n",
              "\n",
              "  .colab-df-quickchart:hover {\n",
              "    background-color: var(--hover-bg-color);\n",
              "    box-shadow: 0 1px 2px rgba(60, 64, 67, 0.3), 0 1px 3px 1px rgba(60, 64, 67, 0.15);\n",
              "    fill: var(--button-hover-fill-color);\n",
              "  }\n",
              "\n",
              "  .colab-df-quickchart-complete:disabled,\n",
              "  .colab-df-quickchart-complete:disabled:hover {\n",
              "    background-color: var(--disabled-bg-color);\n",
              "    fill: var(--disabled-fill-color);\n",
              "    box-shadow: none;\n",
              "  }\n",
              "\n",
              "  .colab-df-spinner {\n",
              "    border: 2px solid var(--fill-color);\n",
              "    border-color: transparent;\n",
              "    border-bottom-color: var(--fill-color);\n",
              "    animation:\n",
              "      spin 1s steps(1) infinite;\n",
              "  }\n",
              "\n",
              "  @keyframes spin {\n",
              "    0% {\n",
              "      border-color: transparent;\n",
              "      border-bottom-color: var(--fill-color);\n",
              "      border-left-color: var(--fill-color);\n",
              "    }\n",
              "    20% {\n",
              "      border-color: transparent;\n",
              "      border-left-color: var(--fill-color);\n",
              "      border-top-color: var(--fill-color);\n",
              "    }\n",
              "    30% {\n",
              "      border-color: transparent;\n",
              "      border-left-color: var(--fill-color);\n",
              "      border-top-color: var(--fill-color);\n",
              "      border-right-color: var(--fill-color);\n",
              "    }\n",
              "    40% {\n",
              "      border-color: transparent;\n",
              "      border-right-color: var(--fill-color);\n",
              "      border-top-color: var(--fill-color);\n",
              "    }\n",
              "    60% {\n",
              "      border-color: transparent;\n",
              "      border-right-color: var(--fill-color);\n",
              "    }\n",
              "    80% {\n",
              "      border-color: transparent;\n",
              "      border-right-color: var(--fill-color);\n",
              "      border-bottom-color: var(--fill-color);\n",
              "    }\n",
              "    90% {\n",
              "      border-color: transparent;\n",
              "      border-bottom-color: var(--fill-color);\n",
              "    }\n",
              "  }\n",
              "</style>\n",
              "\n",
              "  <script>\n",
              "    async function quickchart(key) {\n",
              "      const quickchartButtonEl =\n",
              "        document.querySelector('#' + key + ' button');\n",
              "      quickchartButtonEl.disabled = true;  // To prevent multiple clicks.\n",
              "      quickchartButtonEl.classList.add('colab-df-spinner');\n",
              "      try {\n",
              "        const charts = await google.colab.kernel.invokeFunction(\n",
              "            'suggestCharts', [key], {});\n",
              "      } catch (error) {\n",
              "        console.error('Error during call to suggestCharts:', error);\n",
              "      }\n",
              "      quickchartButtonEl.classList.remove('colab-df-spinner');\n",
              "      quickchartButtonEl.classList.add('colab-df-quickchart-complete');\n",
              "    }\n",
              "    (() => {\n",
              "      let quickchartButtonEl =\n",
              "        document.querySelector('#df-e8f7014a-bdcb-4093-af98-16658996f2a6 button');\n",
              "      quickchartButtonEl.style.display =\n",
              "        google.colab.kernel.accessAllowed ? 'block' : 'none';\n",
              "    })();\n",
              "  </script>\n",
              "</div>\n",
              "    </div>\n",
              "  </div>\n"
            ]
          },
          "metadata": {},
          "execution_count": 21
        }
      ]
    },
    {
      "cell_type": "code",
      "source": [
        "ads.loc[[29903]]"
      ],
      "metadata": {
        "colab": {
          "base_uri": "https://localhost:8080/",
          "height": 118
        },
        "id": "2jDf78uAR7Tp",
        "outputId": "0c1eaf77-00c7-4c05-93fa-c0e51fb0047e"
      },
      "execution_count": null,
      "outputs": [
        {
          "output_type": "execute_result",
          "data": {
            "text/plain": [
              "         p_date             ad_id delivery_country queue_market    punish_num  \\\n",
              "29903  20230807  1773564626657310               GB          NaN  2.220446e-16   \n",
              "\n",
              "      latest_punish_begin_date  ad_revenue  avg_ad_revenue  \\\n",
              "29903               2000-01-01    4.718282        4.718282   \n",
              "\n",
              "                start_time  baseline_st     product_line  task_type_en  \\\n",
              "29903  2023-08-09 00:00:00         5.96  Non-Auction Ads  Branding Ads   \n",
              "\n",
              "                 v1        v2        v3     score  scaled_score  \n",
              "29903  2.220446e-16  1.743668  1.743668  6.235358      0.249199  "
            ],
            "text/html": [
              "\n",
              "  <div id=\"df-b9678d19-2d22-44d6-9a23-fc7cd63d5aeb\" class=\"colab-df-container\">\n",
              "    <div>\n",
              "<style scoped>\n",
              "    .dataframe tbody tr th:only-of-type {\n",
              "        vertical-align: middle;\n",
              "    }\n",
              "\n",
              "    .dataframe tbody tr th {\n",
              "        vertical-align: top;\n",
              "    }\n",
              "\n",
              "    .dataframe thead th {\n",
              "        text-align: right;\n",
              "    }\n",
              "</style>\n",
              "<table border=\"1\" class=\"dataframe\">\n",
              "  <thead>\n",
              "    <tr style=\"text-align: right;\">\n",
              "      <th></th>\n",
              "      <th>p_date</th>\n",
              "      <th>ad_id</th>\n",
              "      <th>delivery_country</th>\n",
              "      <th>queue_market</th>\n",
              "      <th>punish_num</th>\n",
              "      <th>latest_punish_begin_date</th>\n",
              "      <th>ad_revenue</th>\n",
              "      <th>avg_ad_revenue</th>\n",
              "      <th>start_time</th>\n",
              "      <th>baseline_st</th>\n",
              "      <th>product_line</th>\n",
              "      <th>task_type_en</th>\n",
              "      <th>v1</th>\n",
              "      <th>v2</th>\n",
              "      <th>v3</th>\n",
              "      <th>score</th>\n",
              "      <th>scaled_score</th>\n",
              "    </tr>\n",
              "  </thead>\n",
              "  <tbody>\n",
              "    <tr>\n",
              "      <th>29903</th>\n",
              "      <td>20230807</td>\n",
              "      <td>1773564626657310</td>\n",
              "      <td>GB</td>\n",
              "      <td>NaN</td>\n",
              "      <td>2.220446e-16</td>\n",
              "      <td>2000-01-01</td>\n",
              "      <td>4.718282</td>\n",
              "      <td>4.718282</td>\n",
              "      <td>2023-08-09 00:00:00</td>\n",
              "      <td>5.96</td>\n",
              "      <td>Non-Auction Ads</td>\n",
              "      <td>Branding Ads</td>\n",
              "      <td>2.220446e-16</td>\n",
              "      <td>1.743668</td>\n",
              "      <td>1.743668</td>\n",
              "      <td>6.235358</td>\n",
              "      <td>0.249199</td>\n",
              "    </tr>\n",
              "  </tbody>\n",
              "</table>\n",
              "</div>\n",
              "    <div class=\"colab-df-buttons\">\n",
              "\n",
              "  <div class=\"colab-df-container\">\n",
              "    <button class=\"colab-df-convert\" onclick=\"convertToInteractive('df-b9678d19-2d22-44d6-9a23-fc7cd63d5aeb')\"\n",
              "            title=\"Convert this dataframe to an interactive table.\"\n",
              "            style=\"display:none;\">\n",
              "\n",
              "  <svg xmlns=\"http://www.w3.org/2000/svg\" height=\"24px\" viewBox=\"0 -960 960 960\">\n",
              "    <path d=\"M120-120v-720h720v720H120Zm60-500h600v-160H180v160Zm220 220h160v-160H400v160Zm0 220h160v-160H400v160ZM180-400h160v-160H180v160Zm440 0h160v-160H620v160ZM180-180h160v-160H180v160Zm440 0h160v-160H620v160Z\"/>\n",
              "  </svg>\n",
              "    </button>\n",
              "\n",
              "  <style>\n",
              "    .colab-df-container {\n",
              "      display:flex;\n",
              "      gap: 12px;\n",
              "    }\n",
              "\n",
              "    .colab-df-convert {\n",
              "      background-color: #E8F0FE;\n",
              "      border: none;\n",
              "      border-radius: 50%;\n",
              "      cursor: pointer;\n",
              "      display: none;\n",
              "      fill: #1967D2;\n",
              "      height: 32px;\n",
              "      padding: 0 0 0 0;\n",
              "      width: 32px;\n",
              "    }\n",
              "\n",
              "    .colab-df-convert:hover {\n",
              "      background-color: #E2EBFA;\n",
              "      box-shadow: 0px 1px 2px rgba(60, 64, 67, 0.3), 0px 1px 3px 1px rgba(60, 64, 67, 0.15);\n",
              "      fill: #174EA6;\n",
              "    }\n",
              "\n",
              "    .colab-df-buttons div {\n",
              "      margin-bottom: 4px;\n",
              "    }\n",
              "\n",
              "    [theme=dark] .colab-df-convert {\n",
              "      background-color: #3B4455;\n",
              "      fill: #D2E3FC;\n",
              "    }\n",
              "\n",
              "    [theme=dark] .colab-df-convert:hover {\n",
              "      background-color: #434B5C;\n",
              "      box-shadow: 0px 1px 3px 1px rgba(0, 0, 0, 0.15);\n",
              "      filter: drop-shadow(0px 1px 2px rgba(0, 0, 0, 0.3));\n",
              "      fill: #FFFFFF;\n",
              "    }\n",
              "  </style>\n",
              "\n",
              "    <script>\n",
              "      const buttonEl =\n",
              "        document.querySelector('#df-b9678d19-2d22-44d6-9a23-fc7cd63d5aeb button.colab-df-convert');\n",
              "      buttonEl.style.display =\n",
              "        google.colab.kernel.accessAllowed ? 'block' : 'none';\n",
              "\n",
              "      async function convertToInteractive(key) {\n",
              "        const element = document.querySelector('#df-b9678d19-2d22-44d6-9a23-fc7cd63d5aeb');\n",
              "        const dataTable =\n",
              "          await google.colab.kernel.invokeFunction('convertToInteractive',\n",
              "                                                    [key], {});\n",
              "        if (!dataTable) return;\n",
              "\n",
              "        const docLinkHtml = 'Like what you see? Visit the ' +\n",
              "          '<a target=\"_blank\" href=https://colab.research.google.com/notebooks/data_table.ipynb>data table notebook</a>'\n",
              "          + ' to learn more about interactive tables.';\n",
              "        element.innerHTML = '';\n",
              "        dataTable['output_type'] = 'display_data';\n",
              "        await google.colab.output.renderOutput(dataTable, element);\n",
              "        const docLink = document.createElement('div');\n",
              "        docLink.innerHTML = docLinkHtml;\n",
              "        element.appendChild(docLink);\n",
              "      }\n",
              "    </script>\n",
              "  </div>\n",
              "\n",
              "    </div>\n",
              "  </div>\n"
            ]
          },
          "metadata": {},
          "execution_count": 22
        }
      ]
    },
    {
      "cell_type": "markdown",
      "source": [
        "### Reviewers"
      ],
      "metadata": {
        "id": "K02ozCweRIzK"
      }
    },
    {
      "cell_type": "code",
      "source": [
        "rev['moderator'].nunique() == len(rev)"
      ],
      "metadata": {
        "colab": {
          "base_uri": "https://localhost:8080/"
        },
        "id": "DGq4Hfn0REvv",
        "outputId": "448e1603-0ab2-444c-da86-a96ff6e7d9a4"
      },
      "execution_count": null,
      "outputs": [
        {
          "output_type": "execute_result",
          "data": {
            "text/plain": [
              "True"
            ]
          },
          "metadata": {},
          "execution_count": 23
        }
      ]
    },
    {
      "cell_type": "markdown",
      "source": [
        "Each reviewer has a unique moderator ID, it can be simply used as the index"
      ],
      "metadata": {
        "id": "cML6D_pWRLZU"
      }
    },
    {
      "cell_type": "code",
      "source": [
        "rev.set_index('moderator', inplace = True)"
      ],
      "metadata": {
        "id": "MvM2IzAsROxl"
      },
      "execution_count": 31,
      "outputs": []
    },
    {
      "cell_type": "code",
      "source": [
        "rev"
      ],
      "metadata": {
        "colab": {
          "base_uri": "https://localhost:8080/",
          "height": 657
        },
        "id": "wz63Bz63RaoO",
        "outputId": "878cf1bd-d952-47ea-cc21-5410cb561585"
      },
      "execution_count": 32,
      "outputs": [
        {
          "output_type": "execute_result",
          "data": {
            "text/plain": [
              "                                            market  Productivity  \\\n",
              "moderator                                                          \n",
              "1686755036370945                              [RO]    174.560000   \n",
              "1741913197768705                              [VN]    334.376000   \n",
              "1743415203890193  [MX, UY, CL, AR, CO, EC, PE, BR]    452.277500   \n",
              "1710346282427393                              [PH]    612.312500   \n",
              "1748544247125010  [MX, UY, CO, CL, AR, EC, PE, BR]    292.330000   \n",
              "...                                            ...           ...   \n",
              "1694281660376066                              [TR]    273.432381   \n",
              "1734911746733057                          [US, CA]    180.750000   \n",
              "1694737747315714                              [TH]    542.360000   \n",
              "1730993346971650                              [RO]    320.960000   \n",
              "1707706649725953                              [GB]    283.261333   \n",
              "\n",
              "                  Utilisation %  handling time  accuracy         v1        v2  \\\n",
              "moderator                                                                       \n",
              "1686755036370945       0.704833          25547     0.959  13.212116 -0.041864   \n",
              "1741913197768705       0.819167          50794     1.000  18.285951  0.000000   \n",
              "1743415203890193       0.775474          89626     0.941  21.266817 -0.060812   \n",
              "1710346282427393       0.843229          98066     0.887  24.744949 -0.119910   \n",
              "1748544247125010       0.678776          80656     0.739  17.097661 -0.302457   \n",
              "...                         ...            ...       ...        ...       ...   \n",
              "1694281660376066       0.861444          64710     0.943  16.535791 -0.058689   \n",
              "1734911746733057       0.685469          79210     0.860  13.444330 -0.150823   \n",
              "1694737747315714       0.890927          49664     0.958  23.288624 -0.042908   \n",
              "1730993346971650       0.843042          73769     0.967  17.915357 -0.033557   \n",
              "1707706649725953       0.846072          90975     0.865  16.830369 -0.145026   \n",
              "\n",
              "                         v3      score  scaled_score  max_cap  \n",
              "moderator                                                      \n",
              "1686755036370945  10.148275  17.238132      0.523279       32  \n",
              "1741913197768705  10.835534  20.553804      0.649666       16  \n",
              "1743415203890193  11.403401  21.173390      0.673283       32  \n",
              "1710346282427393  11.493396  22.405271      0.720240       16  \n",
              "1748544247125010  11.297948  15.694622      0.464444       32  \n",
              "...                     ...        ...           ...      ...  \n",
              "1694281660376066  11.077671  18.527639      0.572433       16  \n",
              "1734911746733057  11.279858  15.326669      0.450418       32  \n",
              "1694737747315714  10.813036  22.936656      0.740495       16  \n",
              "1730993346971650  11.208694  19.649867      0.615210       16  \n",
              "1707706649725953  11.418340  17.364052      0.528079       16  \n",
              "\n",
              "[1275 rows x 11 columns]"
            ],
            "text/html": [
              "\n",
              "  <div id=\"df-c902e1d3-220d-4584-97ac-fb230b59b4fe\" class=\"colab-df-container\">\n",
              "    <div>\n",
              "<style scoped>\n",
              "    .dataframe tbody tr th:only-of-type {\n",
              "        vertical-align: middle;\n",
              "    }\n",
              "\n",
              "    .dataframe tbody tr th {\n",
              "        vertical-align: top;\n",
              "    }\n",
              "\n",
              "    .dataframe thead th {\n",
              "        text-align: right;\n",
              "    }\n",
              "</style>\n",
              "<table border=\"1\" class=\"dataframe\">\n",
              "  <thead>\n",
              "    <tr style=\"text-align: right;\">\n",
              "      <th></th>\n",
              "      <th>market</th>\n",
              "      <th>Productivity</th>\n",
              "      <th>Utilisation %</th>\n",
              "      <th>handling time</th>\n",
              "      <th>accuracy</th>\n",
              "      <th>v1</th>\n",
              "      <th>v2</th>\n",
              "      <th>v3</th>\n",
              "      <th>score</th>\n",
              "      <th>scaled_score</th>\n",
              "      <th>max_cap</th>\n",
              "    </tr>\n",
              "    <tr>\n",
              "      <th>moderator</th>\n",
              "      <th></th>\n",
              "      <th></th>\n",
              "      <th></th>\n",
              "      <th></th>\n",
              "      <th></th>\n",
              "      <th></th>\n",
              "      <th></th>\n",
              "      <th></th>\n",
              "      <th></th>\n",
              "      <th></th>\n",
              "      <th></th>\n",
              "    </tr>\n",
              "  </thead>\n",
              "  <tbody>\n",
              "    <tr>\n",
              "      <th>1686755036370945</th>\n",
              "      <td>[RO]</td>\n",
              "      <td>174.560000</td>\n",
              "      <td>0.704833</td>\n",
              "      <td>25547</td>\n",
              "      <td>0.959</td>\n",
              "      <td>13.212116</td>\n",
              "      <td>-0.041864</td>\n",
              "      <td>10.148275</td>\n",
              "      <td>17.238132</td>\n",
              "      <td>0.523279</td>\n",
              "      <td>32</td>\n",
              "    </tr>\n",
              "    <tr>\n",
              "      <th>1741913197768705</th>\n",
              "      <td>[VN]</td>\n",
              "      <td>334.376000</td>\n",
              "      <td>0.819167</td>\n",
              "      <td>50794</td>\n",
              "      <td>1.000</td>\n",
              "      <td>18.285951</td>\n",
              "      <td>0.000000</td>\n",
              "      <td>10.835534</td>\n",
              "      <td>20.553804</td>\n",
              "      <td>0.649666</td>\n",
              "      <td>16</td>\n",
              "    </tr>\n",
              "    <tr>\n",
              "      <th>1743415203890193</th>\n",
              "      <td>[MX, UY, CL, AR, CO, EC, PE, BR]</td>\n",
              "      <td>452.277500</td>\n",
              "      <td>0.775474</td>\n",
              "      <td>89626</td>\n",
              "      <td>0.941</td>\n",
              "      <td>21.266817</td>\n",
              "      <td>-0.060812</td>\n",
              "      <td>11.403401</td>\n",
              "      <td>21.173390</td>\n",
              "      <td>0.673283</td>\n",
              "      <td>32</td>\n",
              "    </tr>\n",
              "    <tr>\n",
              "      <th>1710346282427393</th>\n",
              "      <td>[PH]</td>\n",
              "      <td>612.312500</td>\n",
              "      <td>0.843229</td>\n",
              "      <td>98066</td>\n",
              "      <td>0.887</td>\n",
              "      <td>24.744949</td>\n",
              "      <td>-0.119910</td>\n",
              "      <td>11.493396</td>\n",
              "      <td>22.405271</td>\n",
              "      <td>0.720240</td>\n",
              "      <td>16</td>\n",
              "    </tr>\n",
              "    <tr>\n",
              "      <th>1748544247125010</th>\n",
              "      <td>[MX, UY, CO, CL, AR, EC, PE, BR]</td>\n",
              "      <td>292.330000</td>\n",
              "      <td>0.678776</td>\n",
              "      <td>80656</td>\n",
              "      <td>0.739</td>\n",
              "      <td>17.097661</td>\n",
              "      <td>-0.302457</td>\n",
              "      <td>11.297948</td>\n",
              "      <td>15.694622</td>\n",
              "      <td>0.464444</td>\n",
              "      <td>32</td>\n",
              "    </tr>\n",
              "    <tr>\n",
              "      <th>...</th>\n",
              "      <td>...</td>\n",
              "      <td>...</td>\n",
              "      <td>...</td>\n",
              "      <td>...</td>\n",
              "      <td>...</td>\n",
              "      <td>...</td>\n",
              "      <td>...</td>\n",
              "      <td>...</td>\n",
              "      <td>...</td>\n",
              "      <td>...</td>\n",
              "      <td>...</td>\n",
              "    </tr>\n",
              "    <tr>\n",
              "      <th>1694281660376066</th>\n",
              "      <td>[TR]</td>\n",
              "      <td>273.432381</td>\n",
              "      <td>0.861444</td>\n",
              "      <td>64710</td>\n",
              "      <td>0.943</td>\n",
              "      <td>16.535791</td>\n",
              "      <td>-0.058689</td>\n",
              "      <td>11.077671</td>\n",
              "      <td>18.527639</td>\n",
              "      <td>0.572433</td>\n",
              "      <td>16</td>\n",
              "    </tr>\n",
              "    <tr>\n",
              "      <th>1734911746733057</th>\n",
              "      <td>[US, CA]</td>\n",
              "      <td>180.750000</td>\n",
              "      <td>0.685469</td>\n",
              "      <td>79210</td>\n",
              "      <td>0.860</td>\n",
              "      <td>13.444330</td>\n",
              "      <td>-0.150823</td>\n",
              "      <td>11.279858</td>\n",
              "      <td>15.326669</td>\n",
              "      <td>0.450418</td>\n",
              "      <td>32</td>\n",
              "    </tr>\n",
              "    <tr>\n",
              "      <th>1694737747315714</th>\n",
              "      <td>[TH]</td>\n",
              "      <td>542.360000</td>\n",
              "      <td>0.890927</td>\n",
              "      <td>49664</td>\n",
              "      <td>0.958</td>\n",
              "      <td>23.288624</td>\n",
              "      <td>-0.042908</td>\n",
              "      <td>10.813036</td>\n",
              "      <td>22.936656</td>\n",
              "      <td>0.740495</td>\n",
              "      <td>16</td>\n",
              "    </tr>\n",
              "    <tr>\n",
              "      <th>1730993346971650</th>\n",
              "      <td>[RO]</td>\n",
              "      <td>320.960000</td>\n",
              "      <td>0.843042</td>\n",
              "      <td>73769</td>\n",
              "      <td>0.967</td>\n",
              "      <td>17.915357</td>\n",
              "      <td>-0.033557</td>\n",
              "      <td>11.208694</td>\n",
              "      <td>19.649867</td>\n",
              "      <td>0.615210</td>\n",
              "      <td>16</td>\n",
              "    </tr>\n",
              "    <tr>\n",
              "      <th>1707706649725953</th>\n",
              "      <td>[GB]</td>\n",
              "      <td>283.261333</td>\n",
              "      <td>0.846072</td>\n",
              "      <td>90975</td>\n",
              "      <td>0.865</td>\n",
              "      <td>16.830369</td>\n",
              "      <td>-0.145026</td>\n",
              "      <td>11.418340</td>\n",
              "      <td>17.364052</td>\n",
              "      <td>0.528079</td>\n",
              "      <td>16</td>\n",
              "    </tr>\n",
              "  </tbody>\n",
              "</table>\n",
              "<p>1275 rows × 11 columns</p>\n",
              "</div>\n",
              "    <div class=\"colab-df-buttons\">\n",
              "\n",
              "  <div class=\"colab-df-container\">\n",
              "    <button class=\"colab-df-convert\" onclick=\"convertToInteractive('df-c902e1d3-220d-4584-97ac-fb230b59b4fe')\"\n",
              "            title=\"Convert this dataframe to an interactive table.\"\n",
              "            style=\"display:none;\">\n",
              "\n",
              "  <svg xmlns=\"http://www.w3.org/2000/svg\" height=\"24px\" viewBox=\"0 -960 960 960\">\n",
              "    <path d=\"M120-120v-720h720v720H120Zm60-500h600v-160H180v160Zm220 220h160v-160H400v160Zm0 220h160v-160H400v160ZM180-400h160v-160H180v160Zm440 0h160v-160H620v160ZM180-180h160v-160H180v160Zm440 0h160v-160H620v160Z\"/>\n",
              "  </svg>\n",
              "    </button>\n",
              "\n",
              "  <style>\n",
              "    .colab-df-container {\n",
              "      display:flex;\n",
              "      gap: 12px;\n",
              "    }\n",
              "\n",
              "    .colab-df-convert {\n",
              "      background-color: #E8F0FE;\n",
              "      border: none;\n",
              "      border-radius: 50%;\n",
              "      cursor: pointer;\n",
              "      display: none;\n",
              "      fill: #1967D2;\n",
              "      height: 32px;\n",
              "      padding: 0 0 0 0;\n",
              "      width: 32px;\n",
              "    }\n",
              "\n",
              "    .colab-df-convert:hover {\n",
              "      background-color: #E2EBFA;\n",
              "      box-shadow: 0px 1px 2px rgba(60, 64, 67, 0.3), 0px 1px 3px 1px rgba(60, 64, 67, 0.15);\n",
              "      fill: #174EA6;\n",
              "    }\n",
              "\n",
              "    .colab-df-buttons div {\n",
              "      margin-bottom: 4px;\n",
              "    }\n",
              "\n",
              "    [theme=dark] .colab-df-convert {\n",
              "      background-color: #3B4455;\n",
              "      fill: #D2E3FC;\n",
              "    }\n",
              "\n",
              "    [theme=dark] .colab-df-convert:hover {\n",
              "      background-color: #434B5C;\n",
              "      box-shadow: 0px 1px 3px 1px rgba(0, 0, 0, 0.15);\n",
              "      filter: drop-shadow(0px 1px 2px rgba(0, 0, 0, 0.3));\n",
              "      fill: #FFFFFF;\n",
              "    }\n",
              "  </style>\n",
              "\n",
              "    <script>\n",
              "      const buttonEl =\n",
              "        document.querySelector('#df-c902e1d3-220d-4584-97ac-fb230b59b4fe button.colab-df-convert');\n",
              "      buttonEl.style.display =\n",
              "        google.colab.kernel.accessAllowed ? 'block' : 'none';\n",
              "\n",
              "      async function convertToInteractive(key) {\n",
              "        const element = document.querySelector('#df-c902e1d3-220d-4584-97ac-fb230b59b4fe');\n",
              "        const dataTable =\n",
              "          await google.colab.kernel.invokeFunction('convertToInteractive',\n",
              "                                                    [key], {});\n",
              "        if (!dataTable) return;\n",
              "\n",
              "        const docLinkHtml = 'Like what you see? Visit the ' +\n",
              "          '<a target=\"_blank\" href=https://colab.research.google.com/notebooks/data_table.ipynb>data table notebook</a>'\n",
              "          + ' to learn more about interactive tables.';\n",
              "        element.innerHTML = '';\n",
              "        dataTable['output_type'] = 'display_data';\n",
              "        await google.colab.output.renderOutput(dataTable, element);\n",
              "        const docLink = document.createElement('div');\n",
              "        docLink.innerHTML = docLinkHtml;\n",
              "        element.appendChild(docLink);\n",
              "      }\n",
              "    </script>\n",
              "  </div>\n",
              "\n",
              "\n",
              "<div id=\"df-89a393d4-d7f2-4de4-8b9a-c55edc1702c7\">\n",
              "  <button class=\"colab-df-quickchart\" onclick=\"quickchart('df-89a393d4-d7f2-4de4-8b9a-c55edc1702c7')\"\n",
              "            title=\"Suggest charts.\"\n",
              "            style=\"display:none;\">\n",
              "\n",
              "<svg xmlns=\"http://www.w3.org/2000/svg\" height=\"24px\"viewBox=\"0 0 24 24\"\n",
              "     width=\"24px\">\n",
              "    <g>\n",
              "        <path d=\"M19 3H5c-1.1 0-2 .9-2 2v14c0 1.1.9 2 2 2h14c1.1 0 2-.9 2-2V5c0-1.1-.9-2-2-2zM9 17H7v-7h2v7zm4 0h-2V7h2v10zm4 0h-2v-4h2v4z\"/>\n",
              "    </g>\n",
              "</svg>\n",
              "  </button>\n",
              "\n",
              "<style>\n",
              "  .colab-df-quickchart {\n",
              "      --bg-color: #E8F0FE;\n",
              "      --fill-color: #1967D2;\n",
              "      --hover-bg-color: #E2EBFA;\n",
              "      --hover-fill-color: #174EA6;\n",
              "      --disabled-fill-color: #AAA;\n",
              "      --disabled-bg-color: #DDD;\n",
              "  }\n",
              "\n",
              "  [theme=dark] .colab-df-quickchart {\n",
              "      --bg-color: #3B4455;\n",
              "      --fill-color: #D2E3FC;\n",
              "      --hover-bg-color: #434B5C;\n",
              "      --hover-fill-color: #FFFFFF;\n",
              "      --disabled-bg-color: #3B4455;\n",
              "      --disabled-fill-color: #666;\n",
              "  }\n",
              "\n",
              "  .colab-df-quickchart {\n",
              "    background-color: var(--bg-color);\n",
              "    border: none;\n",
              "    border-radius: 50%;\n",
              "    cursor: pointer;\n",
              "    display: none;\n",
              "    fill: var(--fill-color);\n",
              "    height: 32px;\n",
              "    padding: 0;\n",
              "    width: 32px;\n",
              "  }\n",
              "\n",
              "  .colab-df-quickchart:hover {\n",
              "    background-color: var(--hover-bg-color);\n",
              "    box-shadow: 0 1px 2px rgba(60, 64, 67, 0.3), 0 1px 3px 1px rgba(60, 64, 67, 0.15);\n",
              "    fill: var(--button-hover-fill-color);\n",
              "  }\n",
              "\n",
              "  .colab-df-quickchart-complete:disabled,\n",
              "  .colab-df-quickchart-complete:disabled:hover {\n",
              "    background-color: var(--disabled-bg-color);\n",
              "    fill: var(--disabled-fill-color);\n",
              "    box-shadow: none;\n",
              "  }\n",
              "\n",
              "  .colab-df-spinner {\n",
              "    border: 2px solid var(--fill-color);\n",
              "    border-color: transparent;\n",
              "    border-bottom-color: var(--fill-color);\n",
              "    animation:\n",
              "      spin 1s steps(1) infinite;\n",
              "  }\n",
              "\n",
              "  @keyframes spin {\n",
              "    0% {\n",
              "      border-color: transparent;\n",
              "      border-bottom-color: var(--fill-color);\n",
              "      border-left-color: var(--fill-color);\n",
              "    }\n",
              "    20% {\n",
              "      border-color: transparent;\n",
              "      border-left-color: var(--fill-color);\n",
              "      border-top-color: var(--fill-color);\n",
              "    }\n",
              "    30% {\n",
              "      border-color: transparent;\n",
              "      border-left-color: var(--fill-color);\n",
              "      border-top-color: var(--fill-color);\n",
              "      border-right-color: var(--fill-color);\n",
              "    }\n",
              "    40% {\n",
              "      border-color: transparent;\n",
              "      border-right-color: var(--fill-color);\n",
              "      border-top-color: var(--fill-color);\n",
              "    }\n",
              "    60% {\n",
              "      border-color: transparent;\n",
              "      border-right-color: var(--fill-color);\n",
              "    }\n",
              "    80% {\n",
              "      border-color: transparent;\n",
              "      border-right-color: var(--fill-color);\n",
              "      border-bottom-color: var(--fill-color);\n",
              "    }\n",
              "    90% {\n",
              "      border-color: transparent;\n",
              "      border-bottom-color: var(--fill-color);\n",
              "    }\n",
              "  }\n",
              "</style>\n",
              "\n",
              "  <script>\n",
              "    async function quickchart(key) {\n",
              "      const quickchartButtonEl =\n",
              "        document.querySelector('#' + key + ' button');\n",
              "      quickchartButtonEl.disabled = true;  // To prevent multiple clicks.\n",
              "      quickchartButtonEl.classList.add('colab-df-spinner');\n",
              "      try {\n",
              "        const charts = await google.colab.kernel.invokeFunction(\n",
              "            'suggestCharts', [key], {});\n",
              "      } catch (error) {\n",
              "        console.error('Error during call to suggestCharts:', error);\n",
              "      }\n",
              "      quickchartButtonEl.classList.remove('colab-df-spinner');\n",
              "      quickchartButtonEl.classList.add('colab-df-quickchart-complete');\n",
              "    }\n",
              "    (() => {\n",
              "      let quickchartButtonEl =\n",
              "        document.querySelector('#df-89a393d4-d7f2-4de4-8b9a-c55edc1702c7 button');\n",
              "      quickchartButtonEl.style.display =\n",
              "        google.colab.kernel.accessAllowed ? 'block' : 'none';\n",
              "    })();\n",
              "  </script>\n",
              "</div>\n",
              "    </div>\n",
              "  </div>\n"
            ]
          },
          "metadata": {},
          "execution_count": 32
        }
      ]
    },
    {
      "cell_type": "markdown",
      "source": [
        "We also add another column in the reviewer's dataset to store the ads that have been assigned to them (as there can be multiple ads assigned to the same reviewer, but not vice versa)."
      ],
      "metadata": {
        "id": "bt4RlvX5S5pK"
      }
    },
    {
      "cell_type": "code",
      "source": [
        "rev['assigned_ads'] = np.empty((len(rev), 0)).tolist()"
      ],
      "metadata": {
        "id": "GhESfxb7TugT"
      },
      "execution_count": 46,
      "outputs": []
    },
    {
      "cell_type": "code",
      "source": [
        "rev['assigned_ads']"
      ],
      "metadata": {
        "colab": {
          "base_uri": "https://localhost:8080/"
        },
        "id": "rKZelAmdUA_H",
        "outputId": "a7b8dcc3-46a0-4544-a4c2-a0662bdf4f10"
      },
      "execution_count": 34,
      "outputs": [
        {
          "output_type": "execute_result",
          "data": {
            "text/plain": [
              "moderator\n",
              "1686755036370945    []\n",
              "1741913197768705    []\n",
              "1743415203890193    []\n",
              "1710346282427393    []\n",
              "1748544247125010    []\n",
              "                    ..\n",
              "1694281660376066    []\n",
              "1734911746733057    []\n",
              "1694737747315714    []\n",
              "1730993346971650    []\n",
              "1707706649725953    []\n",
              "Name: assigned_ads, Length: 1275, dtype: object"
            ]
          },
          "metadata": {},
          "execution_count": 34
        }
      ]
    },
    {
      "cell_type": "markdown",
      "source": [
        "# Stochastic Optimization"
      ],
      "metadata": {
        "id": "M0Lt2cwcM8Vb"
      }
    },
    {
      "cell_type": "markdown",
      "source": [
        "## Objective Function"
      ],
      "metadata": {
        "id": "LA0Jb57WM95T"
      }
    },
    {
      "cell_type": "markdown",
      "source": [
        "The following is the objective funtion we aim to minimize (note that the range of the score is any positive number i.e greater than equal to 0).\n",
        "\n",
        "The closer the score is to 0, the better is the match between the ad and the reviewer."
      ],
      "metadata": {
        "id": "8EnxoR0JQCCg"
      }
    },
    {
      "cell_type": "code",
      "source": [
        "def match_score(ad, reviewer):\n",
        "\n",
        "  score_diff = (ads.loc[ad, 'scaled_score'] - rev.loc[reviewer, 'scaled_score']) ** 2 # We use square to penalize more if the priority scores of the ad and the reviewer are significant different\n",
        "  market = int(ads.loc[ad, 'delivery_country'] in rev.loc[reviewer, 'market'])\n",
        "  curr_util = max(rev.loc[reviewer, 'Utilisation %'], 1)\n",
        "  assign_priority = len(rev.loc[reviewer, 'assigned_ads'])/rev.loc[reviewer, 'max_cap'] # The more ads currently assigned to this moderator, the higher this score; the more max assignments this moderator can have, the lower this score\n",
        "\n",
        "  return score_diff + market + curr_util + assign_priority\n"
      ],
      "metadata": {
        "id": "B44_Q3ahM-50"
      },
      "execution_count": 35,
      "outputs": []
    },
    {
      "cell_type": "markdown",
      "source": [
        "## Simulated Annealing"
      ],
      "metadata": {
        "id": "1dvFK7jAxk1k"
      }
    },
    {
      "cell_type": "markdown",
      "source": [
        "Note that not all experiments have been included!!"
      ],
      "metadata": {
        "id": "MQlN-rWqmv6o"
      }
    },
    {
      "cell_type": "code",
      "source": [
        "# All ads and reviewers in a list\n",
        "all_ads = ads.index.tolist()\n",
        "all_reviewers = rev.index.tolist()"
      ],
      "metadata": {
        "id": "QJdyQEfixoR7"
      },
      "execution_count": 36,
      "outputs": []
    },
    {
      "cell_type": "code",
      "source": [
        "rev['assigned_ads'] = np.empty((len(rev), 0)).tolist()"
      ],
      "metadata": {
        "id": "7B2koEhovPef"
      },
      "execution_count": 37,
      "outputs": []
    },
    {
      "cell_type": "code",
      "source": [
        "import time\n",
        "random.seed(time.time())"
      ],
      "metadata": {
        "id": "pet6AoUOTXTy"
      },
      "execution_count": 38,
      "outputs": []
    },
    {
      "cell_type": "markdown",
      "source": [
        "We start with an intial set of assignments."
      ],
      "metadata": {
        "id": "2H1CjEWMce2W"
      }
    },
    {
      "cell_type": "code",
      "source": [
        "initial = {}\n",
        "for ad in all_ads:\n",
        "  initial[ad] = random.choice(all_reviewers)\n",
        "  rev.loc[initial[ad], 'assigned_ads'].append(ad)\n"
      ],
      "metadata": {
        "id": "OrNRiN0iU_qX"
      },
      "execution_count": 47,
      "outputs": []
    },
    {
      "cell_type": "code",
      "source": [
        "sum(match_score(ad, reviewer) for ad, reviewer in initial.items())"
      ],
      "metadata": {
        "colab": {
          "base_uri": "https://localhost:8080/"
        },
        "id": "BrOJNMr2gfWY",
        "outputId": "df2f0ca1-09d3-4395-dc8a-8b8cf87201f2"
      },
      "execution_count": 48,
      "outputs": [
        {
          "output_type": "execute_result",
          "data": {
            "text/plain": [
              "72981.00354090928"
            ]
          },
          "metadata": {},
          "execution_count": 48
        }
      ]
    },
    {
      "cell_type": "code",
      "source": [
        "sum(match_score(ad, reviewer) for ad, reviewer in initial.items())/len(ads)"
      ],
      "metadata": {
        "colab": {
          "base_uri": "https://localhost:8080/"
        },
        "id": "nnztXZd1tO24",
        "outputId": "83a9d568-83e0-4697-b3ad-3ac51dc27a6b"
      },
      "execution_count": 49,
      "outputs": [
        {
          "output_type": "execute_result",
          "data": {
            "text/plain": [
              "2.44018334696099"
            ]
          },
          "metadata": {},
          "execution_count": 49
        }
      ]
    },
    {
      "cell_type": "markdown",
      "source": [
        "We start of with a simple simulated annealing that randomly reassigns a reviewer to an ad if the match is better (i.e. the match score is lower)"
      ],
      "metadata": {
        "id": "swZfFoymdDQJ"
      }
    },
    {
      "cell_type": "code",
      "source": [
        "def simulated_annealing_assign(initial_assgn, max_iter):\n",
        "  current = initial_assgn.copy()\n",
        "\n",
        "  for iter in tqdm(range(max_iter)):\n",
        "    #randomly select an ad to reassign\n",
        "    re_ad = random.choice(all_ads)\n",
        "    new_rev = random.choice(all_reviewers)\n",
        "    while new_rev == current[re_ad]:\n",
        "      new_rev = random.choice(all_reviewers)\n",
        "\n",
        "    # Calculate the new score if reviewer reassigned\n",
        "    difference = match_score(re_ad, new_rev) - match_score(re_ad, current[re_ad])\n",
        "\n",
        "    # Swapping\n",
        "    switch = False\n",
        "    if difference <= 0:\n",
        "        switch = True\n",
        "\n",
        "    #Update to better score\n",
        "    if switch:\n",
        "        (rev.loc[current[re_ad], 'assigned_ads']).remove(re_ad)\n",
        "        (rev.loc[new_rev, 'assigned_ads']).append(re_ad)\n",
        "        current[re_ad] = new_rev\n",
        "\n",
        "  return current\n"
      ],
      "metadata": {
        "id": "TwjNmNCcgu4X"
      },
      "execution_count": 50,
      "outputs": []
    },
    {
      "cell_type": "code",
      "source": [
        "assignment = simulated_annealing_assign(initial, max_iter = 1000000)"
      ],
      "metadata": {
        "colab": {
          "base_uri": "https://localhost:8080/"
        },
        "id": "k6T6JGC94eCy",
        "outputId": "a7e273ec-a61c-48bb-99de-ec88951232b7"
      },
      "execution_count": 51,
      "outputs": [
        {
          "output_type": "stream",
          "name": "stderr",
          "text": [
            "100%|██████████| 1000000/1000000 [03:11<00:00, 5230.59it/s]\n"
          ]
        }
      ]
    },
    {
      "cell_type": "code",
      "source": [
        "sum(match_score(ad, reviewer) for ad, reviewer in assignment.items())"
      ],
      "metadata": {
        "colab": {
          "base_uri": "https://localhost:8080/"
        },
        "id": "kAwLgbQY4pSP",
        "outputId": "c2b74997-e948-420f-a882-607714879a3c"
      },
      "execution_count": 52,
      "outputs": [
        {
          "output_type": "execute_result",
          "data": {
            "text/plain": [
              "54437.69193463056"
            ]
          },
          "metadata": {},
          "execution_count": 52
        }
      ]
    },
    {
      "cell_type": "code",
      "source": [
        "sum(match_score(ad, reviewer) for ad, reviewer in assignment.items())/len(ads)"
      ],
      "metadata": {
        "colab": {
          "base_uri": "https://localhost:8080/"
        },
        "id": "Lii_Gr3a4r93",
        "outputId": "0c5f8974-cebc-4e37-e66d-505defee42a6"
      },
      "execution_count": 53,
      "outputs": [
        {
          "output_type": "execute_result",
          "data": {
            "text/plain": [
              "1.8201715906991627"
            ]
          },
          "metadata": {},
          "execution_count": 53
        }
      ]
    },
    {
      "cell_type": "code",
      "source": [
        "### we define a reset initial function to reset our assigned_ads to empty and also reset our initial random assignment\n",
        "def reset_initial():\n",
        "  rev['assigned_ads'] = np.empty((len(rev), 0)).tolist()\n",
        "  global initial\n",
        "  initial = {}\n",
        "  for ad in all_ads:\n",
        "    initial[ad] = random.choice(all_reviewers)\n",
        "    rev.loc[initial[ad], 'assigned_ads'].append(ad)\n"
      ],
      "metadata": {
        "id": "rT0HzsFB6PIv"
      },
      "execution_count": 54,
      "outputs": []
    },
    {
      "cell_type": "markdown",
      "source": [
        "Let's try to run it longer"
      ],
      "metadata": {
        "id": "VgXOozbVeJvU"
      }
    },
    {
      "cell_type": "code",
      "source": [
        "reset_initial()"
      ],
      "metadata": {
        "id": "kRcq2H5LsODy"
      },
      "execution_count": 59,
      "outputs": []
    },
    {
      "cell_type": "code",
      "source": [
        "sum(match_score(ad, reviewer) for ad, reviewer in initial.items())"
      ],
      "metadata": {
        "colab": {
          "base_uri": "https://localhost:8080/"
        },
        "id": "VVKR_zFXhwBt",
        "outputId": "81c3ad88-8c11-4b2d-def8-1594b7c056bb"
      },
      "execution_count": 61,
      "outputs": [
        {
          "output_type": "execute_result",
          "data": {
            "text/plain": [
              "73418.87801765827"
            ]
          },
          "metadata": {},
          "execution_count": 61
        }
      ]
    },
    {
      "cell_type": "code",
      "source": [
        "sum(match_score(ad, reviewer) for ad, reviewer in initial.items())/len(ads)"
      ],
      "metadata": {
        "colab": {
          "base_uri": "https://localhost:8080/"
        },
        "id": "_7yLke5BhzDF",
        "outputId": "802fce44-3409-420c-d391-e07109ad3b35"
      },
      "execution_count": 62,
      "outputs": [
        {
          "output_type": "execute_result",
          "data": {
            "text/plain": [
              "2.4548240610424723"
            ]
          },
          "metadata": {},
          "execution_count": 62
        }
      ]
    },
    {
      "cell_type": "code",
      "source": [
        "assignment = simulated_annealing_assign(initial, max_iter = 5000000)"
      ],
      "metadata": {
        "id": "u9s_RWbd7MH2",
        "colab": {
          "base_uri": "https://localhost:8080/"
        },
        "outputId": "8663be66-f469-41ab-9c56-47c2e002f218"
      },
      "execution_count": 56,
      "outputs": [
        {
          "output_type": "stream",
          "name": "stderr",
          "text": [
            "100%|██████████| 5000000/5000000 [14:13<00:00, 5856.78it/s]\n"
          ]
        }
      ]
    },
    {
      "cell_type": "code",
      "source": [
        "sum(match_score(ad, reviewer) for ad, reviewer in assignment.items())"
      ],
      "metadata": {
        "id": "qPN2mQhO52sI",
        "colab": {
          "base_uri": "https://localhost:8080/"
        },
        "outputId": "1a4a3cd5-19c1-4f66-be13-7342dc82af97"
      },
      "execution_count": 57,
      "outputs": [
        {
          "output_type": "execute_result",
          "data": {
            "text/plain": [
              "54430.53103534958"
            ]
          },
          "metadata": {},
          "execution_count": 57
        }
      ]
    },
    {
      "cell_type": "code",
      "source": [
        "sum(match_score(ad, reviewer) for ad, reviewer in assignment.items())/len(ads)"
      ],
      "metadata": {
        "id": "1muANPVb530W",
        "colab": {
          "base_uri": "https://localhost:8080/"
        },
        "outputId": "fc9549ca-7aff-4047-a2fc-7ef0b961ec4a"
      },
      "execution_count": 58,
      "outputs": [
        {
          "output_type": "execute_result",
          "data": {
            "text/plain": [
              "1.8199321598017113"
            ]
          },
          "metadata": {},
          "execution_count": 58
        }
      ]
    },
    {
      "cell_type": "markdown",
      "source": [
        "The match score is slightly better but still not as improved as it should based on the additional iterations."
      ],
      "metadata": {
        "id": "gB0IvNSKhtZz"
      }
    },
    {
      "cell_type": "markdown",
      "source": [
        "Next we try a simulated annealing with a temperature and alpha/cooling rate to add some randomness into whether we accept a reassignment or not (sometimes not doing a reassignment may lead to better states towards the global optima)"
      ],
      "metadata": {
        "id": "NmcfJssldrWE"
      }
    },
    {
      "cell_type": "code",
      "source": [
        "reset_initial()"
      ],
      "metadata": {
        "id": "TlPfqO-66bA6"
      },
      "execution_count": 63,
      "outputs": []
    },
    {
      "cell_type": "code",
      "source": [
        "def simulated_annealing_assign_decay(initial_assgn, T, alpha, max_iter):\n",
        "  current = initial_assgn.copy()\n",
        "\n",
        "  for iter in tqdm(range(max_iter)):\n",
        "    #randomly select an ad to reassign\n",
        "    re_ad = random.choice(all_ads)\n",
        "    new_rev = random.choice(all_reviewers)\n",
        "    while new_rev == current[re_ad]:\n",
        "      new_rev = random.choice(all_reviewers)\n",
        "\n",
        "    # Calculate the new score if reviewer reassigned\n",
        "    difference = match_score(re_ad, new_rev) - match_score(re_ad, current[re_ad])\n",
        "\n",
        "    # Swapping\n",
        "    switch = False\n",
        "    if difference <= 0:\n",
        "        switch = True\n",
        "    else:\n",
        "      prob = math.exp(-difference/T)\n",
        "      thresh = random.uniform(0,1)\n",
        "      if prob > thresh:\n",
        "          switch = True\n",
        "\n",
        "    #Update to better score\n",
        "    if switch:\n",
        "        (rev.loc[current[re_ad], 'assigned_ads']).remove(re_ad)\n",
        "        (rev.loc[new_rev, 'assigned_ads']).append(re_ad)\n",
        "        current[re_ad] = new_rev\n",
        "\n",
        "    #T decay\n",
        "    T *= alpha\n",
        "\n",
        "  return current\n"
      ],
      "metadata": {
        "id": "8SABVl864UcW"
      },
      "execution_count": 64,
      "outputs": []
    },
    {
      "cell_type": "code",
      "source": [
        "sum(match_score(ad, reviewer) for ad, reviewer in initial.items())"
      ],
      "metadata": {
        "colab": {
          "base_uri": "https://localhost:8080/"
        },
        "id": "4mNzoiw38Sf6",
        "outputId": "4f45777b-4edf-41a1-dbc6-1ce4667881c6"
      },
      "execution_count": 65,
      "outputs": [
        {
          "output_type": "execute_result",
          "data": {
            "text/plain": [
              "74366.30018238045"
            ]
          },
          "metadata": {},
          "execution_count": 65
        }
      ]
    },
    {
      "cell_type": "code",
      "source": [
        "sum(match_score(ad, reviewer) for ad, reviewer in initial.items())/len(ads)"
      ],
      "metadata": {
        "colab": {
          "base_uri": "https://localhost:8080/"
        },
        "id": "O1JFbJaTrN3u",
        "outputId": "d4aedf70-9b7d-476a-85b7-19b1423bf31c"
      },
      "execution_count": 66,
      "outputs": [
        {
          "output_type": "execute_result",
          "data": {
            "text/plain": [
              "2.4865019453785093"
            ]
          },
          "metadata": {},
          "execution_count": 66
        }
      ]
    },
    {
      "cell_type": "code",
      "source": [
        "assignment_decay1 = simulated_annealing_assign_decay(initial, T = 1000, alpha = 0.99, max_iter = 1000000)"
      ],
      "metadata": {
        "colab": {
          "base_uri": "https://localhost:8080/"
        },
        "id": "qOoAQW3P46Aq",
        "outputId": "000c3fc9-29b2-44a0-8da6-d8e657242fed"
      },
      "execution_count": 67,
      "outputs": [
        {
          "output_type": "stream",
          "name": "stderr",
          "text": [
            "100%|██████████| 1000000/1000000 [02:54<00:00, 5728.09it/s]\n"
          ]
        }
      ]
    },
    {
      "cell_type": "code",
      "source": [
        "sum(match_score(ad, reviewer) for ad, reviewer in assignment_decay1.items())"
      ],
      "metadata": {
        "colab": {
          "base_uri": "https://localhost:8080/"
        },
        "id": "PPM89Gzk598J",
        "outputId": "90503723-8d88-4719-cf42-b367c9d2d200"
      },
      "execution_count": 68,
      "outputs": [
        {
          "output_type": "execute_result",
          "data": {
            "text/plain": [
              "54439.18090062289"
            ]
          },
          "metadata": {},
          "execution_count": 68
        }
      ]
    },
    {
      "cell_type": "code",
      "source": [
        "sum(match_score(ad, reviewer) for ad, reviewer in assignment_decay1.items())/len(ads)"
      ],
      "metadata": {
        "colab": {
          "base_uri": "https://localhost:8080/"
        },
        "id": "IpEQQY1o6AED",
        "outputId": "25c1c0e4-4e13-45db-ed18-2e2887e4865c"
      },
      "execution_count": 69,
      "outputs": [
        {
          "output_type": "execute_result",
          "data": {
            "text/plain": [
              "1.8202213755725185"
            ]
          },
          "metadata": {},
          "execution_count": 69
        }
      ]
    },
    {
      "cell_type": "markdown",
      "source": [
        "This seems to work better than the previous version, let's try to run it longer as well."
      ],
      "metadata": {
        "id": "2THt3gRWi_hJ"
      }
    },
    {
      "cell_type": "code",
      "source": [
        "reset_initial()"
      ],
      "metadata": {
        "id": "w7icCJKpxIbe"
      },
      "execution_count": 70,
      "outputs": []
    },
    {
      "cell_type": "code",
      "source": [
        "sum(match_score(ad, reviewer) for ad, reviewer in initial.items())"
      ],
      "metadata": {
        "colab": {
          "base_uri": "https://localhost:8080/"
        },
        "id": "1MKJ10afxKLH",
        "outputId": "a7b28443-4724-411b-96e6-d0b8f760e3b6"
      },
      "execution_count": 71,
      "outputs": [
        {
          "output_type": "execute_result",
          "data": {
            "text/plain": [
              "75095.97506150472"
            ]
          },
          "metadata": {},
          "execution_count": 71
        }
      ]
    },
    {
      "cell_type": "code",
      "source": [
        "sum(match_score(ad, reviewer) for ad, reviewer in initial.items())/len(ads)"
      ],
      "metadata": {
        "colab": {
          "base_uri": "https://localhost:8080/"
        },
        "id": "EV7W1pUhxK86",
        "outputId": "917b6da6-8eb4-407a-c629-98ff637091f3"
      },
      "execution_count": 72,
      "outputs": [
        {
          "output_type": "execute_result",
          "data": {
            "text/plain": [
              "2.51089925978015"
            ]
          },
          "metadata": {},
          "execution_count": 72
        }
      ]
    },
    {
      "cell_type": "code",
      "source": [
        "assignment_decay1_longer = simulated_annealing_assign_decay(initial, T = 1000, alpha = 0.99, max_iter = 5000000)"
      ],
      "metadata": {
        "colab": {
          "base_uri": "https://localhost:8080/"
        },
        "id": "qUX4m-0exNKM",
        "outputId": "f080834f-13c0-4233-cf4a-5de731ea9509"
      },
      "execution_count": 73,
      "outputs": [
        {
          "output_type": "stream",
          "name": "stderr",
          "text": [
            "100%|██████████| 5000000/5000000 [14:35<00:00, 5711.09it/s]\n"
          ]
        }
      ]
    },
    {
      "cell_type": "code",
      "source": [
        "sum(match_score(ad, reviewer) for ad, reviewer in assignment_decay1_longer.items())"
      ],
      "metadata": {
        "colab": {
          "base_uri": "https://localhost:8080/"
        },
        "id": "fgdlzn4JxScP",
        "outputId": "33257588-d846-41d5-ff3c-a00901e314c5"
      },
      "execution_count": 74,
      "outputs": [
        {
          "output_type": "execute_result",
          "data": {
            "text/plain": [
              "54428.571642288036"
            ]
          },
          "metadata": {},
          "execution_count": 74
        }
      ]
    },
    {
      "cell_type": "code",
      "source": [
        "sum(match_score(ad, reviewer) for ad, reviewer in assignment_decay1_longer.items())/len(ads)"
      ],
      "metadata": {
        "colab": {
          "base_uri": "https://localhost:8080/"
        },
        "id": "SETtGcdqxUvz",
        "outputId": "523219f7-77e9-428b-a39f-5bff4002ef49"
      },
      "execution_count": 75,
      "outputs": [
        {
          "output_type": "execute_result",
          "data": {
            "text/plain": [
              "1.8198666457900239"
            ]
          },
          "metadata": {},
          "execution_count": 75
        }
      ]
    },
    {
      "cell_type": "code",
      "source": [
        "reset_initial()"
      ],
      "metadata": {
        "id": "jALnBDuA6aSc"
      },
      "execution_count": 76,
      "outputs": []
    },
    {
      "cell_type": "code",
      "source": [
        "sum(match_score(ad, reviewer) for ad, reviewer in initial.items())"
      ],
      "metadata": {
        "colab": {
          "base_uri": "https://localhost:8080/"
        },
        "id": "xeOOotzM8agc",
        "outputId": "c0bcbb9e-dd07-42de-e0b1-48d6bfc75e3d"
      },
      "execution_count": 77,
      "outputs": [
        {
          "output_type": "execute_result",
          "data": {
            "text/plain": [
              "75271.41192150721"
            ]
          },
          "metadata": {},
          "execution_count": 77
        }
      ]
    },
    {
      "cell_type": "code",
      "source": [
        "sum(match_score(ad, reviewer) for ad, reviewer in initial.items())/len(ads)"
      ],
      "metadata": {
        "colab": {
          "base_uri": "https://localhost:8080/"
        },
        "id": "nENqCZYWrTtc",
        "outputId": "61b9b78f-b946-4c47-fed2-ac178eee46c2"
      },
      "execution_count": 78,
      "outputs": [
        {
          "output_type": "execute_result",
          "data": {
            "text/plain": [
              "2.516765143824636"
            ]
          },
          "metadata": {},
          "execution_count": 78
        }
      ]
    },
    {
      "cell_type": "code",
      "source": [
        "reset_initial()"
      ],
      "metadata": {
        "id": "F9NGBLZ-6b_w"
      },
      "execution_count": 80,
      "outputs": []
    },
    {
      "cell_type": "code",
      "source": [
        "sum(match_score(ad, reviewer) for ad, reviewer in initial.items())"
      ],
      "metadata": {
        "colab": {
          "base_uri": "https://localhost:8080/"
        },
        "id": "ZrrcNrSY9saG",
        "outputId": "bde82a76-d3ae-4166-f04e-389755079f70"
      },
      "execution_count": 81,
      "outputs": [
        {
          "output_type": "execute_result",
          "data": {
            "text/plain": [
              "74226.89973266408"
            ]
          },
          "metadata": {},
          "execution_count": 81
        }
      ]
    },
    {
      "cell_type": "code",
      "source": [
        "sum(match_score(ad, reviewer) for ad, reviewer in initial.items())/len(ads)"
      ],
      "metadata": {
        "colab": {
          "base_uri": "https://localhost:8080/"
        },
        "id": "UyyE3w29rgk_",
        "outputId": "b0883085-0b70-41fe-b4d9-adaff3fa1a68"
      },
      "execution_count": 82,
      "outputs": [
        {
          "output_type": "execute_result",
          "data": {
            "text/plain": [
              "2.4818409700636646"
            ]
          },
          "metadata": {},
          "execution_count": 82
        }
      ]
    },
    {
      "cell_type": "code",
      "source": [
        "assignment_decay3 = simulated_annealing_assign_decay(initial, T = 100, alpha = 0.9, max_iter = 1000000)"
      ],
      "metadata": {
        "colab": {
          "base_uri": "https://localhost:8080/"
        },
        "id": "UL-H_nnI5GHF",
        "outputId": "602c0813-1ce2-4a69-b2dd-a6a918a1000f"
      },
      "execution_count": null,
      "outputs": [
        {
          "output_type": "stream",
          "name": "stderr",
          "text": [
            "100%|██████████| 1000000/1000000 [03:58<00:00, 4189.40it/s]\n"
          ]
        }
      ]
    },
    {
      "cell_type": "code",
      "source": [
        "sum(match_score(ad, reviewer) for ad, reviewer in assignment_decay3.items())"
      ],
      "metadata": {
        "colab": {
          "base_uri": "https://localhost:8080/"
        },
        "id": "Cf0bYDC74LAf",
        "outputId": "d7538c5e-8630-490c-e155-4dbc3b586580"
      },
      "execution_count": null,
      "outputs": [
        {
          "output_type": "execute_result",
          "data": {
            "text/plain": [
              "42761.92532689145"
            ]
          },
          "metadata": {},
          "execution_count": 193
        }
      ]
    },
    {
      "cell_type": "code",
      "source": [
        "sum(match_score(ad, reviewer) for ad, reviewer in assignment_decay3.items())/len(ads)"
      ],
      "metadata": {
        "colab": {
          "base_uri": "https://localhost:8080/"
        },
        "id": "izax2zHv6EbP",
        "outputId": "e6eb5017-f11e-45ff-9a4e-5b8bf1daa846"
      },
      "execution_count": null,
      "outputs": [
        {
          "output_type": "execute_result",
          "data": {
            "text/plain": [
              "1.4297821762368412"
            ]
          },
          "metadata": {},
          "execution_count": 194
        }
      ]
    },
    {
      "cell_type": "markdown",
      "source": [
        "Overall, simulated annealing with a T and alpha rate works better. The initial T = 1000 and alpha 0.99 works well (note that all experiments have been included).  "
      ],
      "metadata": {
        "id": "QBbkM6Z_pooC"
      }
    },
    {
      "cell_type": "markdown",
      "source": [
        "Next we try to add some logic into our initial assignment. Instead of making it purely random, let's try to keep it within the max_cap set for each reviewer."
      ],
      "metadata": {
        "id": "2DZXy-1Hpyv7"
      }
    },
    {
      "cell_type": "code",
      "source": [
        "def reset_initial2():\n",
        "  rev['assigned_ads'] = np.empty((len(rev), 0)).tolist()\n",
        "  global initial_2\n",
        "  initial_2 = {}\n",
        "  for ad in all_ads:\n",
        "    chosen_rev = random.choice(all_reviewers)\n",
        "    while len(rev.loc[chosen_rev, 'assigned_ads']) == rev.loc[chosen_rev, 'max_cap']:\n",
        "      chosen_rev = random.choice(all_reviewers)\n",
        "\n",
        "    initial_2[ad] = chosen_rev\n",
        "    rev.loc[chosen_rev, 'assigned_ads'].append(ad)"
      ],
      "metadata": {
        "id": "pqmDgjWRqH9Z"
      },
      "execution_count": 83,
      "outputs": []
    },
    {
      "cell_type": "code",
      "source": [
        "reset_initial2()"
      ],
      "metadata": {
        "id": "6JvQmxF66o8i"
      },
      "execution_count": 84,
      "outputs": []
    },
    {
      "cell_type": "markdown",
      "source": [
        "As expected, the initial match_score is lower to being with"
      ],
      "metadata": {
        "id": "2f4HF9iZp6Nt"
      }
    },
    {
      "cell_type": "code",
      "source": [
        "sum(match_score(ad, reviewer) for ad, reviewer in initial_2.items())"
      ],
      "metadata": {
        "colab": {
          "base_uri": "https://localhost:8080/"
        },
        "id": "jRBPsqGSqumh",
        "outputId": "da511877-0b74-409b-8f7c-11468edf07f4"
      },
      "execution_count": 85,
      "outputs": [
        {
          "output_type": "execute_result",
          "data": {
            "text/plain": [
              "57963.71698821681"
            ]
          },
          "metadata": {},
          "execution_count": 85
        }
      ]
    },
    {
      "cell_type": "code",
      "source": [
        "sum(match_score(ad, reviewer) for ad, reviewer in initial_2.items())/len(ads)"
      ],
      "metadata": {
        "colab": {
          "base_uri": "https://localhost:8080/"
        },
        "id": "NR457IsmteH1",
        "outputId": "503d1053-f9b4-4280-cfda-0eb2ec053559"
      },
      "execution_count": 86,
      "outputs": [
        {
          "output_type": "execute_result",
          "data": {
            "text/plain": [
              "1.9380673060123315"
            ]
          },
          "metadata": {},
          "execution_count": 86
        }
      ]
    },
    {
      "cell_type": "markdown",
      "source": [
        "This would also change the manner in which we do the simulated annealing. Instead of reassiging the reviewrs, we could do a swap of assigned ads between 2 reviewers."
      ],
      "metadata": {
        "id": "dPjWxoCdqLvQ"
      }
    },
    {
      "cell_type": "code",
      "source": [
        "def simulated_annealing_swap(initial_assgn, max_iter):\n",
        "  current = {ad: rev for ad, rev in initial_assgn.items()}\n",
        "\n",
        "  for iter in tqdm(range(max_iter)):\n",
        "    #randomly select an ad to reassign\n",
        "    ad_1 = random.choice(all_ads)\n",
        "    ad_2 = random.choice([a for a in all_ads if a != ad_1])\n",
        "\n",
        "    # Calculate the new score if reviewer reassigned\n",
        "    diff = (match_score(ad_1, current[ad_2]) + match_score(ad_2, current[ad_1]))-(match_score(ad_1, current[ad_1]) + match_score(ad_2, current[ad_2]))\n",
        "\n",
        "    # Swapping\n",
        "    switch = False\n",
        "    if diff <= 0:\n",
        "        switch = True\n",
        "\n",
        "    #Update to better score\n",
        "    if switch:\n",
        "        (rev.loc[current[ad_1], 'assigned_ads']).remove(ad_1)\n",
        "        (rev.loc[current[ad_2], 'assigned_ads']).append(ad_1)\n",
        "\n",
        "        (rev.loc[current[ad_2], 'assigned_ads']).remove(ad_2)\n",
        "        (rev.loc[current[ad_1], 'assigned_ads']).append(ad_2)\n",
        "\n",
        "        current[ad_1], current[ad_2] = current[ad_2], current[ad_1]\n",
        "\n",
        "  return current"
      ],
      "metadata": {
        "id": "ixd--att-dlO"
      },
      "execution_count": 89,
      "outputs": []
    },
    {
      "cell_type": "code",
      "source": [
        "assignment_swap = simulated_annealing_swap(initial_2, max_iter = 10000)"
      ],
      "metadata": {
        "colab": {
          "base_uri": "https://localhost:8080/"
        },
        "id": "0v6PIsEQ-79W",
        "outputId": "f29560e6-ebe2-420e-c0d4-f788e4efaf6b"
      },
      "execution_count": 90,
      "outputs": [
        {
          "output_type": "stream",
          "name": "stderr",
          "text": [
            "100%|██████████| 10000/10000 [00:24<00:00, 416.23it/s]\n"
          ]
        }
      ]
    },
    {
      "cell_type": "code",
      "source": [
        "sum(match_score(ad, reviewer) for ad, reviewer in assignment_swap.items())"
      ],
      "metadata": {
        "colab": {
          "base_uri": "https://localhost:8080/"
        },
        "id": "YGHSk44H-5T6",
        "outputId": "223eb4d2-ad1f-43af-c8e6-f6d24669dc39"
      },
      "execution_count": 91,
      "outputs": [
        {
          "output_type": "execute_result",
          "data": {
            "text/plain": [
              "57220.49724568303"
            ]
          },
          "metadata": {},
          "execution_count": 91
        }
      ]
    },
    {
      "cell_type": "code",
      "source": [
        "sum(match_score(ad, reviewer) for ad, reviewer in assignment_swap.items())/len(ads)"
      ],
      "metadata": {
        "colab": {
          "base_uri": "https://localhost:8080/"
        },
        "id": "OzKk94a9_-mA",
        "outputId": "4e75e2d7-3e46-499e-fca0-80efe5d01dd6"
      },
      "execution_count": 92,
      "outputs": [
        {
          "output_type": "execute_result",
          "data": {
            "text/plain": [
              "1.9132171073185444"
            ]
          },
          "metadata": {},
          "execution_count": 92
        }
      ]
    },
    {
      "cell_type": "code",
      "source": [
        "reset_initial2()"
      ],
      "metadata": {
        "id": "_He61uTL1yfm"
      },
      "execution_count": 93,
      "outputs": []
    },
    {
      "cell_type": "code",
      "source": [
        "sum(match_score(ad, reviewer) for ad, reviewer in initial_2.items())"
      ],
      "metadata": {
        "colab": {
          "base_uri": "https://localhost:8080/"
        },
        "id": "qKwdFH3G11Uq",
        "outputId": "a747f37e-5c0b-43e4-c202-6927e27f36f1"
      },
      "execution_count": 94,
      "outputs": [
        {
          "output_type": "execute_result",
          "data": {
            "text/plain": [
              "58122.04569095356"
            ]
          },
          "metadata": {},
          "execution_count": 94
        }
      ]
    },
    {
      "cell_type": "code",
      "source": [
        "sum(match_score(ad, reviewer) for ad, reviewer in initial_2.items())/len(ads)"
      ],
      "metadata": {
        "colab": {
          "base_uri": "https://localhost:8080/"
        },
        "id": "Yu1i3KS-13bu",
        "outputId": "cd17a56a-4d15-4970-ed58-9672195a983b"
      },
      "execution_count": 95,
      "outputs": [
        {
          "output_type": "execute_result",
          "data": {
            "text/plain": [
              "1.9433611639345179"
            ]
          },
          "metadata": {},
          "execution_count": 95
        }
      ]
    },
    {
      "cell_type": "code",
      "source": [
        "assignment_swap_longer = simulated_annealing_swap(initial_2, max_iter = 100000)"
      ],
      "metadata": {
        "colab": {
          "base_uri": "https://localhost:8080/"
        },
        "id": "eiS5RdtE13UT",
        "outputId": "6f504043-1a5d-467b-84bb-149d7333a61b"
      },
      "execution_count": 96,
      "outputs": [
        {
          "output_type": "stream",
          "name": "stderr",
          "text": [
            "100%|██████████| 100000/100000 [03:50<00:00, 433.28it/s]\n"
          ]
        }
      ]
    },
    {
      "cell_type": "code",
      "source": [
        "sum(match_score(ad, reviewer) for ad, reviewer in assignment_swap_longer.items())"
      ],
      "metadata": {
        "colab": {
          "base_uri": "https://localhost:8080/"
        },
        "id": "1T3MdANl69FC",
        "outputId": "7be7f319-79ee-403a-b1e8-ed051ddef12b"
      },
      "execution_count": 97,
      "outputs": [
        {
          "output_type": "execute_result",
          "data": {
            "text/plain": [
              "56228.982068589175"
            ]
          },
          "metadata": {},
          "execution_count": 97
        }
      ]
    },
    {
      "cell_type": "code",
      "source": [
        "sum(match_score(ad, reviewer) for ad, reviewer in assignment_swap_longer.items())/len(ads)"
      ],
      "metadata": {
        "colab": {
          "base_uri": "https://localhost:8080/"
        },
        "id": "0BVFFXMF6_JP",
        "outputId": "516061ed-9b18-48db-c8fb-f5313417913d"
      },
      "execution_count": 98,
      "outputs": [
        {
          "output_type": "execute_result",
          "data": {
            "text/plain": [
              "1.8800649347528813"
            ]
          },
          "metadata": {},
          "execution_count": 98
        }
      ]
    },
    {
      "cell_type": "code",
      "source": [
        "reset_initial2()"
      ],
      "metadata": {
        "id": "jePP6gmQ-4Th"
      },
      "execution_count": 99,
      "outputs": []
    },
    {
      "cell_type": "markdown",
      "source": [
        "From above, we see that the algorithm runs slower (swaps are slower than reassignment). Even if we run it longer than decrease in the match_score is almost as comparable to the earlier version of performing reassignments"
      ],
      "metadata": {
        "id": "PkdZUeBop9A2"
      }
    },
    {
      "cell_type": "markdown",
      "source": [
        "We also try to add a T and alpha rate into deciding whether to accept a swap or not."
      ],
      "metadata": {
        "id": "81tkGfeRqTM3"
      }
    },
    {
      "cell_type": "code",
      "source": [
        "def simulated_annealing_swap_decay(initial_assgn, T, alpha, max_iter):\n",
        "  current = {ad: rev for ad, rev in initial_assgn.items()}\n",
        "\n",
        "  for iter in tqdm(range(max_iter)):\n",
        "    #randomly select an ad to reassign\n",
        "    ad_1 = random.choice(all_ads)\n",
        "    ad_2 = random.choice([a for a in all_ads if a != ad_1])\n",
        "\n",
        "    # Calculate the new score if reviewer reassigned\n",
        "    diff = (match_score(ad_1, current[ad_2]) + match_score(ad_2, current[ad_1]))-(match_score(ad_1, current[ad_1]) + match_score(ad_2, current[ad_2]))\n",
        "\n",
        "    # Swapping\n",
        "    switch = False\n",
        "    if diff <= 0:\n",
        "        switch = True\n",
        "    else:\n",
        "      prob = math.exp(-diff/T)\n",
        "      thresh = random.uniform(0,1)\n",
        "      if prob > thresh:\n",
        "          switch = True\n",
        "\n",
        "    #Update to better score\n",
        "    if switch:\n",
        "        (rev.loc[current[ad_1], 'assigned_ads']).remove(ad_1)\n",
        "        (rev.loc[current[ad_2], 'assigned_ads']).append(ad_1)\n",
        "\n",
        "        (rev.loc[current[ad_2], 'assigned_ads']).remove(ad_2)\n",
        "        (rev.loc[current[ad_1], 'assigned_ads']).append(ad_2)\n",
        "\n",
        "        current[ad_1], current[ad_2] = current[ad_2], current[ad_1]\n",
        "\n",
        "    #T decay\n",
        "    T *= alpha\n",
        "\n",
        "  return current"
      ],
      "metadata": {
        "id": "nyx5CaaY-kq-"
      },
      "execution_count": 100,
      "outputs": []
    },
    {
      "cell_type": "code",
      "source": [
        "sum(match_score(ad, reviewer) for ad, reviewer in initial_2.items())"
      ],
      "metadata": {
        "colab": {
          "base_uri": "https://localhost:8080/"
        },
        "id": "yX0_p2NlA4g-",
        "outputId": "d5563d8c-70eb-4406-b8da-5a63d1e2fb17"
      },
      "execution_count": 101,
      "outputs": [
        {
          "output_type": "execute_result",
          "data": {
            "text/plain": [
              "57953.549152550135"
            ]
          },
          "metadata": {},
          "execution_count": 101
        }
      ]
    },
    {
      "cell_type": "code",
      "source": [
        "sum(match_score(ad, reviewer) for ad, reviewer in initial_2.items())/len(ads)"
      ],
      "metadata": {
        "colab": {
          "base_uri": "https://localhost:8080/"
        },
        "id": "sjSWIs8srqoQ",
        "outputId": "a43c4b63-b4d5-456b-aba8-0100332d9ab2"
      },
      "execution_count": 102,
      "outputs": [
        {
          "output_type": "execute_result",
          "data": {
            "text/plain": [
              "1.9377273355807856"
            ]
          },
          "metadata": {},
          "execution_count": 102
        }
      ]
    },
    {
      "cell_type": "code",
      "source": [
        "assignment_swap_decay1 = simulated_annealing_swap_decay(initial_2, T = 1000, alpha = 0.99, max_iter = 10000)"
      ],
      "metadata": {
        "colab": {
          "base_uri": "https://localhost:8080/"
        },
        "id": "oH5n8WfcAFi7",
        "outputId": "23340195-2602-4f63-cb3e-addb50924d3d"
      },
      "execution_count": 103,
      "outputs": [
        {
          "output_type": "stream",
          "name": "stderr",
          "text": [
            "100%|██████████| 10000/10000 [00:24<00:00, 409.13it/s]\n"
          ]
        }
      ]
    },
    {
      "cell_type": "code",
      "source": [
        "sum(match_score(ad, reviewer) for ad, reviewer in assignment_swap_decay1.items())"
      ],
      "metadata": {
        "colab": {
          "base_uri": "https://localhost:8080/"
        },
        "id": "PonqmO-XAUzL",
        "outputId": "336b05ca-1ed5-45e3-b67f-9298e528319e"
      },
      "execution_count": 104,
      "outputs": [
        {
          "output_type": "execute_result",
          "data": {
            "text/plain": [
              "57175.12249543664"
            ]
          },
          "metadata": {},
          "execution_count": 104
        }
      ]
    },
    {
      "cell_type": "code",
      "source": [
        "sum(match_score(ad, reviewer) for ad, reviewer in assignment_swap_decay1.items())/len(ads)"
      ],
      "metadata": {
        "colab": {
          "base_uri": "https://localhost:8080/"
        },
        "id": "Su6EjiaxATMA",
        "outputId": "effad8d6-480a-4183-fb8d-9e5ee657cae8"
      },
      "execution_count": 105,
      "outputs": [
        {
          "output_type": "execute_result",
          "data": {
            "text/plain": [
              "1.9116999630679632"
            ]
          },
          "metadata": {},
          "execution_count": 105
        }
      ]
    },
    {
      "cell_type": "code",
      "source": [
        "reset_initial2()"
      ],
      "metadata": {
        "id": "vZ5zJNRlAYLg"
      },
      "execution_count": 109,
      "outputs": []
    },
    {
      "cell_type": "code",
      "source": [
        "sum(match_score(ad, reviewer) for ad, reviewer in initial_2.items())"
      ],
      "metadata": {
        "colab": {
          "base_uri": "https://localhost:8080/"
        },
        "id": "ANK--X6bA-pS",
        "outputId": "a9823408-b551-4391-9b24-31bd54fcb8b9"
      },
      "execution_count": 110,
      "outputs": [
        {
          "output_type": "execute_result",
          "data": {
            "text/plain": [
              "58154.772907116654"
            ]
          },
          "metadata": {},
          "execution_count": 110
        }
      ]
    },
    {
      "cell_type": "code",
      "source": [
        "sum(match_score(ad, reviewer) for ad, reviewer in initial_2.items())/len(ads)"
      ],
      "metadata": {
        "colab": {
          "base_uri": "https://localhost:8080/"
        },
        "id": "eIRidP3DsBbT",
        "outputId": "af52f734-790e-412f-fc2a-8ec690cb41ae"
      },
      "execution_count": 111,
      "outputs": [
        {
          "output_type": "execute_result",
          "data": {
            "text/plain": [
              "1.9444554268796528"
            ]
          },
          "metadata": {},
          "execution_count": 111
        }
      ]
    },
    {
      "cell_type": "code",
      "source": [
        "assignment_swap_decay3 = simulated_annealing_swap_decay(initial_2, T = 100, alpha = 0.9, max_iter = 10000)"
      ],
      "metadata": {
        "colab": {
          "base_uri": "https://localhost:8080/"
        },
        "id": "hEoqz8dXBAVu",
        "outputId": "5aa9fa6e-bb1d-4cf1-a1d6-c002ec6fb78c"
      },
      "execution_count": 112,
      "outputs": [
        {
          "output_type": "stream",
          "name": "stderr",
          "text": [
            " 68%|██████▊   | 6816/10000 [00:16<00:06, 511.20it/s]<ipython-input-100-94513209749d>:17: RuntimeWarning: overflow encountered in double_scalars\n",
            "  prob = math.exp(-diff/T)\n",
            "100%|██████████| 10000/10000 [00:22<00:00, 438.20it/s]\n"
          ]
        }
      ]
    },
    {
      "cell_type": "code",
      "source": [
        "sum(match_score(ad, reviewer) for ad, reviewer in assignment_swap_decay3.items())"
      ],
      "metadata": {
        "colab": {
          "base_uri": "https://localhost:8080/"
        },
        "id": "aQL-9JwzATth",
        "outputId": "3de2667e-334f-43b9-8cbb-dad271488050"
      },
      "execution_count": 113,
      "outputs": [
        {
          "output_type": "execute_result",
          "data": {
            "text/plain": [
              "57362.74077548707"
            ]
          },
          "metadata": {},
          "execution_count": 113
        }
      ]
    },
    {
      "cell_type": "code",
      "source": [
        "sum(match_score(ad, reviewer) for ad, reviewer in assignment_swap_decay3.items())/len(ads)"
      ],
      "metadata": {
        "colab": {
          "base_uri": "https://localhost:8080/"
        },
        "id": "M45K10hKAUGU",
        "outputId": "2b035cac-9146-4a3e-d2cb-00a12cd0f399"
      },
      "execution_count": 114,
      "outputs": [
        {
          "output_type": "execute_result",
          "data": {
            "text/plain": [
              "1.917973143489604"
            ]
          },
          "metadata": {},
          "execution_count": 114
        }
      ]
    },
    {
      "cell_type": "markdown",
      "source": [
        "The overall performance doesn't seem to be too different with or without T and alpha rates."
      ],
      "metadata": {
        "id": "7n4UOfR-qb8q"
      }
    },
    {
      "cell_type": "markdown",
      "source": [
        "## Conclusion"
      ],
      "metadata": {
        "id": "sEgMei_Iqfr5"
      }
    },
    {
      "cell_type": "markdown",
      "source": [
        "Overall, the simulated annealing with completely random initial assignments and performing random reassignments (with T and alpha rates) works the best. It effectively achieves better match scores (i.e. lower match scores) within a reasonable run time of several iterations. Lower scores can be achieved with more iterations, however, at some point the scores also seem to converge."
      ],
      "metadata": {
        "id": "Xw7oX3gHqhXb"
      }
    }
  ]
}